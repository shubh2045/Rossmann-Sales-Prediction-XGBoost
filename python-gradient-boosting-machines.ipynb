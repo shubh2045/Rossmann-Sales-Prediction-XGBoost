{
 "cells": [
  {
   "cell_type": "markdown",
   "id": "fixed-plastic",
   "metadata": {},
   "source": [
    "# Gradient Boosting Machines (GBMs) with XGBoost\n",
    "\n",
    "![](https://th.bing.com/th/id/R.70badfe4420001cd5b44b7f516afb609?rik=Gfo7juXSuYSE2w&riu=http%3a%2f%2fwww.strelapark.de%2ffileadmin%2f_processed_%2fcsm_rossmann_shop_foto_stralsund_1633a5fb67.jpg&ehk=TbkH8PXt5NDFyxJAXqN4dE7i%2fedCBQ8N1u3q%2fLvAFBo%3d&risl=&pid=ImgRaw&r=0)\n"
   ]
  },
  {
   "cell_type": "markdown",
   "id": "rural-shelf",
   "metadata": {},
   "source": [
    "The following topics are covered in this model:\n",
    "\n",
    "- Downloading a real-world dataset from a Kaggle competition\n",
    "- Performing feature engineering and prepare the dataset for training\n",
    "- Training and interpreting a gradient boosting model using XGBoost\n",
    "- Training with KFold cross validation and ensembling results\n",
    "- Configuring the gradient boosting model and tuning hyperparamters"
   ]
  },
  {
   "cell_type": "markdown",
   "id": "honey-batch",
   "metadata": {},
   "source": [
    "Let's begin by installing the required libraries."
   ]
  },
  {
   "cell_type": "markdown",
   "id": "binary-album",
   "metadata": {},
   "source": [
    "## Problem Statement\n",
    "\n",
    "This model takes a practical and coding-focused approach. We'll learn gradient boosting by applying it to a real-world dataset from the [Rossmann Store Sales](https://www.kaggle.com/c/rossmann-store-sales) competition on Kaggle:\n",
    "\n",
    "> Rossmann operates over 3,000 drug stores in 7 European countries. Currently, Rossmann store managers are tasked with predicting their daily sales for up to six weeks in advance. Store sales are influenced by many factors, including promotions, competition, school and state holidays, seasonality, and locality. \n",
    ">\n",
    ">\n",
    "> With thousands of individual managers predicting sales based on their unique circumstances, the accuracy of results can be quite varied. You are provided with historical sales data for 1,115 Rossmann stores. The task is to forecast the \"Sales\" column for the test set. Note that some stores in the dataset were temporarily closed for refurbishment.\n",
    ">\n",
    "> View and download the data here: https://www.kaggle.com/c/rossmann-store-sales/data"
   ]
  },
  {
   "cell_type": "markdown",
   "id": "alpha-polymer",
   "metadata": {},
   "source": [
    "## Downloading the Data\n",
    "\n",
    "We can download the dataset from Kaggle directly within the Jupyter notebook using the `opendatasets` library. Make sure to [accept the competition rules](https://www.kaggle.com/c/rossmann-store-sales/rules) before executing the following cell."
   ]
  },
  {
   "cell_type": "code",
   "execution_count": 1,
   "id": "stainless-honor",
   "metadata": {},
   "outputs": [],
   "source": [
    "import os\n",
    "import opendatasets as od\n",
    "import pandas as pd\n",
    "pd.set_option(\"display.max_columns\", 120)\n",
    "pd.set_option(\"display.max_rows\", 120)"
   ]
  },
  {
   "cell_type": "code",
   "execution_count": 2,
   "id": "cooperative-match",
   "metadata": {},
   "outputs": [
    {
     "name": "stdout",
     "output_type": "stream",
     "text": [
      "Skipping, found downloaded files in \".\\rossmann-store-sales\" (use force=True to force download)\n"
     ]
    }
   ],
   "source": [
    "od.download('https://www.kaggle.com/c/rossmann-store-sales')"
   ]
  },
  {
   "cell_type": "markdown",
   "id": "composite-shade",
   "metadata": {},
   "source": [
    "You'll be asked to provide your Kaggle credentials to download the data. Follow these instructions: http://bit.ly/kaggle-creds"
   ]
  },
  {
   "cell_type": "code",
   "execution_count": 3,
   "id": "beginning-appeal",
   "metadata": {},
   "outputs": [
    {
     "data": {
      "text/plain": [
       "['sample_submission.csv', 'store.csv', 'test.csv', 'train.csv']"
      ]
     },
     "execution_count": 3,
     "metadata": {},
     "output_type": "execute_result"
    }
   ],
   "source": [
    "os.listdir('rossmann-store-sales')"
   ]
  },
  {
   "cell_type": "markdown",
   "id": "eastern-paintball",
   "metadata": {},
   "source": [
    "Let's load the data into Pandas dataframes."
   ]
  },
  {
   "cell_type": "code",
   "execution_count": 4,
   "id": "fewer-laptop",
   "metadata": {},
   "outputs": [],
   "source": [
    "ross_df = pd.read_csv('./rossmann-store-sales/train.csv', low_memory=False)\n",
    "store_df = pd.read_csv('./rossmann-store-sales/store.csv')\n",
    "test_df = pd.read_csv('./rossmann-store-sales/test.csv')\n",
    "submission_df = pd.read_csv('./rossmann-store-sales/sample_submission.csv')"
   ]
  },
  {
   "cell_type": "code",
   "execution_count": 5,
   "id": "sophisticated-belle",
   "metadata": {},
   "outputs": [
    {
     "data": {
      "text/html": [
       "<div>\n",
       "<style scoped>\n",
       "    .dataframe tbody tr th:only-of-type {\n",
       "        vertical-align: middle;\n",
       "    }\n",
       "\n",
       "    .dataframe tbody tr th {\n",
       "        vertical-align: top;\n",
       "    }\n",
       "\n",
       "    .dataframe thead th {\n",
       "        text-align: right;\n",
       "    }\n",
       "</style>\n",
       "<table border=\"1\" class=\"dataframe\">\n",
       "  <thead>\n",
       "    <tr style=\"text-align: right;\">\n",
       "      <th></th>\n",
       "      <th>Store</th>\n",
       "      <th>DayOfWeek</th>\n",
       "      <th>Date</th>\n",
       "      <th>Sales</th>\n",
       "      <th>Customers</th>\n",
       "      <th>Open</th>\n",
       "      <th>Promo</th>\n",
       "      <th>StateHoliday</th>\n",
       "      <th>SchoolHoliday</th>\n",
       "    </tr>\n",
       "  </thead>\n",
       "  <tbody>\n",
       "    <tr>\n",
       "      <th>0</th>\n",
       "      <td>1</td>\n",
       "      <td>5</td>\n",
       "      <td>2015-07-31</td>\n",
       "      <td>5263</td>\n",
       "      <td>555</td>\n",
       "      <td>1</td>\n",
       "      <td>1</td>\n",
       "      <td>0</td>\n",
       "      <td>1</td>\n",
       "    </tr>\n",
       "    <tr>\n",
       "      <th>1</th>\n",
       "      <td>2</td>\n",
       "      <td>5</td>\n",
       "      <td>2015-07-31</td>\n",
       "      <td>6064</td>\n",
       "      <td>625</td>\n",
       "      <td>1</td>\n",
       "      <td>1</td>\n",
       "      <td>0</td>\n",
       "      <td>1</td>\n",
       "    </tr>\n",
       "    <tr>\n",
       "      <th>2</th>\n",
       "      <td>3</td>\n",
       "      <td>5</td>\n",
       "      <td>2015-07-31</td>\n",
       "      <td>8314</td>\n",
       "      <td>821</td>\n",
       "      <td>1</td>\n",
       "      <td>1</td>\n",
       "      <td>0</td>\n",
       "      <td>1</td>\n",
       "    </tr>\n",
       "    <tr>\n",
       "      <th>3</th>\n",
       "      <td>4</td>\n",
       "      <td>5</td>\n",
       "      <td>2015-07-31</td>\n",
       "      <td>13995</td>\n",
       "      <td>1498</td>\n",
       "      <td>1</td>\n",
       "      <td>1</td>\n",
       "      <td>0</td>\n",
       "      <td>1</td>\n",
       "    </tr>\n",
       "    <tr>\n",
       "      <th>4</th>\n",
       "      <td>5</td>\n",
       "      <td>5</td>\n",
       "      <td>2015-07-31</td>\n",
       "      <td>4822</td>\n",
       "      <td>559</td>\n",
       "      <td>1</td>\n",
       "      <td>1</td>\n",
       "      <td>0</td>\n",
       "      <td>1</td>\n",
       "    </tr>\n",
       "    <tr>\n",
       "      <th>...</th>\n",
       "      <td>...</td>\n",
       "      <td>...</td>\n",
       "      <td>...</td>\n",
       "      <td>...</td>\n",
       "      <td>...</td>\n",
       "      <td>...</td>\n",
       "      <td>...</td>\n",
       "      <td>...</td>\n",
       "      <td>...</td>\n",
       "    </tr>\n",
       "    <tr>\n",
       "      <th>1017204</th>\n",
       "      <td>1111</td>\n",
       "      <td>2</td>\n",
       "      <td>2013-01-01</td>\n",
       "      <td>0</td>\n",
       "      <td>0</td>\n",
       "      <td>0</td>\n",
       "      <td>0</td>\n",
       "      <td>a</td>\n",
       "      <td>1</td>\n",
       "    </tr>\n",
       "    <tr>\n",
       "      <th>1017205</th>\n",
       "      <td>1112</td>\n",
       "      <td>2</td>\n",
       "      <td>2013-01-01</td>\n",
       "      <td>0</td>\n",
       "      <td>0</td>\n",
       "      <td>0</td>\n",
       "      <td>0</td>\n",
       "      <td>a</td>\n",
       "      <td>1</td>\n",
       "    </tr>\n",
       "    <tr>\n",
       "      <th>1017206</th>\n",
       "      <td>1113</td>\n",
       "      <td>2</td>\n",
       "      <td>2013-01-01</td>\n",
       "      <td>0</td>\n",
       "      <td>0</td>\n",
       "      <td>0</td>\n",
       "      <td>0</td>\n",
       "      <td>a</td>\n",
       "      <td>1</td>\n",
       "    </tr>\n",
       "    <tr>\n",
       "      <th>1017207</th>\n",
       "      <td>1114</td>\n",
       "      <td>2</td>\n",
       "      <td>2013-01-01</td>\n",
       "      <td>0</td>\n",
       "      <td>0</td>\n",
       "      <td>0</td>\n",
       "      <td>0</td>\n",
       "      <td>a</td>\n",
       "      <td>1</td>\n",
       "    </tr>\n",
       "    <tr>\n",
       "      <th>1017208</th>\n",
       "      <td>1115</td>\n",
       "      <td>2</td>\n",
       "      <td>2013-01-01</td>\n",
       "      <td>0</td>\n",
       "      <td>0</td>\n",
       "      <td>0</td>\n",
       "      <td>0</td>\n",
       "      <td>a</td>\n",
       "      <td>1</td>\n",
       "    </tr>\n",
       "  </tbody>\n",
       "</table>\n",
       "<p>1017209 rows × 9 columns</p>\n",
       "</div>"
      ],
      "text/plain": [
       "         Store  DayOfWeek        Date  Sales  Customers  Open  Promo  \\\n",
       "0            1          5  2015-07-31   5263        555     1      1   \n",
       "1            2          5  2015-07-31   6064        625     1      1   \n",
       "2            3          5  2015-07-31   8314        821     1      1   \n",
       "3            4          5  2015-07-31  13995       1498     1      1   \n",
       "4            5          5  2015-07-31   4822        559     1      1   \n",
       "...        ...        ...         ...    ...        ...   ...    ...   \n",
       "1017204   1111          2  2013-01-01      0          0     0      0   \n",
       "1017205   1112          2  2013-01-01      0          0     0      0   \n",
       "1017206   1113          2  2013-01-01      0          0     0      0   \n",
       "1017207   1114          2  2013-01-01      0          0     0      0   \n",
       "1017208   1115          2  2013-01-01      0          0     0      0   \n",
       "\n",
       "        StateHoliday  SchoolHoliday  \n",
       "0                  0              1  \n",
       "1                  0              1  \n",
       "2                  0              1  \n",
       "3                  0              1  \n",
       "4                  0              1  \n",
       "...              ...            ...  \n",
       "1017204            a              1  \n",
       "1017205            a              1  \n",
       "1017206            a              1  \n",
       "1017207            a              1  \n",
       "1017208            a              1  \n",
       "\n",
       "[1017209 rows x 9 columns]"
      ]
     },
     "execution_count": 5,
     "metadata": {},
     "output_type": "execute_result"
    }
   ],
   "source": [
    "ross_df"
   ]
  },
  {
   "cell_type": "code",
   "execution_count": 6,
   "id": "favorite-recovery",
   "metadata": {},
   "outputs": [
    {
     "data": {
      "text/html": [
       "<div>\n",
       "<style scoped>\n",
       "    .dataframe tbody tr th:only-of-type {\n",
       "        vertical-align: middle;\n",
       "    }\n",
       "\n",
       "    .dataframe tbody tr th {\n",
       "        vertical-align: top;\n",
       "    }\n",
       "\n",
       "    .dataframe thead th {\n",
       "        text-align: right;\n",
       "    }\n",
       "</style>\n",
       "<table border=\"1\" class=\"dataframe\">\n",
       "  <thead>\n",
       "    <tr style=\"text-align: right;\">\n",
       "      <th></th>\n",
       "      <th>Id</th>\n",
       "      <th>Store</th>\n",
       "      <th>DayOfWeek</th>\n",
       "      <th>Date</th>\n",
       "      <th>Open</th>\n",
       "      <th>Promo</th>\n",
       "      <th>StateHoliday</th>\n",
       "      <th>SchoolHoliday</th>\n",
       "    </tr>\n",
       "  </thead>\n",
       "  <tbody>\n",
       "    <tr>\n",
       "      <th>0</th>\n",
       "      <td>1</td>\n",
       "      <td>1</td>\n",
       "      <td>4</td>\n",
       "      <td>2015-09-17</td>\n",
       "      <td>1.0</td>\n",
       "      <td>1</td>\n",
       "      <td>0</td>\n",
       "      <td>0</td>\n",
       "    </tr>\n",
       "    <tr>\n",
       "      <th>1</th>\n",
       "      <td>2</td>\n",
       "      <td>3</td>\n",
       "      <td>4</td>\n",
       "      <td>2015-09-17</td>\n",
       "      <td>1.0</td>\n",
       "      <td>1</td>\n",
       "      <td>0</td>\n",
       "      <td>0</td>\n",
       "    </tr>\n",
       "    <tr>\n",
       "      <th>2</th>\n",
       "      <td>3</td>\n",
       "      <td>7</td>\n",
       "      <td>4</td>\n",
       "      <td>2015-09-17</td>\n",
       "      <td>1.0</td>\n",
       "      <td>1</td>\n",
       "      <td>0</td>\n",
       "      <td>0</td>\n",
       "    </tr>\n",
       "    <tr>\n",
       "      <th>3</th>\n",
       "      <td>4</td>\n",
       "      <td>8</td>\n",
       "      <td>4</td>\n",
       "      <td>2015-09-17</td>\n",
       "      <td>1.0</td>\n",
       "      <td>1</td>\n",
       "      <td>0</td>\n",
       "      <td>0</td>\n",
       "    </tr>\n",
       "    <tr>\n",
       "      <th>4</th>\n",
       "      <td>5</td>\n",
       "      <td>9</td>\n",
       "      <td>4</td>\n",
       "      <td>2015-09-17</td>\n",
       "      <td>1.0</td>\n",
       "      <td>1</td>\n",
       "      <td>0</td>\n",
       "      <td>0</td>\n",
       "    </tr>\n",
       "    <tr>\n",
       "      <th>...</th>\n",
       "      <td>...</td>\n",
       "      <td>...</td>\n",
       "      <td>...</td>\n",
       "      <td>...</td>\n",
       "      <td>...</td>\n",
       "      <td>...</td>\n",
       "      <td>...</td>\n",
       "      <td>...</td>\n",
       "    </tr>\n",
       "    <tr>\n",
       "      <th>41083</th>\n",
       "      <td>41084</td>\n",
       "      <td>1111</td>\n",
       "      <td>6</td>\n",
       "      <td>2015-08-01</td>\n",
       "      <td>1.0</td>\n",
       "      <td>0</td>\n",
       "      <td>0</td>\n",
       "      <td>0</td>\n",
       "    </tr>\n",
       "    <tr>\n",
       "      <th>41084</th>\n",
       "      <td>41085</td>\n",
       "      <td>1112</td>\n",
       "      <td>6</td>\n",
       "      <td>2015-08-01</td>\n",
       "      <td>1.0</td>\n",
       "      <td>0</td>\n",
       "      <td>0</td>\n",
       "      <td>0</td>\n",
       "    </tr>\n",
       "    <tr>\n",
       "      <th>41085</th>\n",
       "      <td>41086</td>\n",
       "      <td>1113</td>\n",
       "      <td>6</td>\n",
       "      <td>2015-08-01</td>\n",
       "      <td>1.0</td>\n",
       "      <td>0</td>\n",
       "      <td>0</td>\n",
       "      <td>0</td>\n",
       "    </tr>\n",
       "    <tr>\n",
       "      <th>41086</th>\n",
       "      <td>41087</td>\n",
       "      <td>1114</td>\n",
       "      <td>6</td>\n",
       "      <td>2015-08-01</td>\n",
       "      <td>1.0</td>\n",
       "      <td>0</td>\n",
       "      <td>0</td>\n",
       "      <td>0</td>\n",
       "    </tr>\n",
       "    <tr>\n",
       "      <th>41087</th>\n",
       "      <td>41088</td>\n",
       "      <td>1115</td>\n",
       "      <td>6</td>\n",
       "      <td>2015-08-01</td>\n",
       "      <td>1.0</td>\n",
       "      <td>0</td>\n",
       "      <td>0</td>\n",
       "      <td>1</td>\n",
       "    </tr>\n",
       "  </tbody>\n",
       "</table>\n",
       "<p>41088 rows × 8 columns</p>\n",
       "</div>"
      ],
      "text/plain": [
       "          Id  Store  DayOfWeek        Date  Open  Promo StateHoliday  \\\n",
       "0          1      1          4  2015-09-17   1.0      1            0   \n",
       "1          2      3          4  2015-09-17   1.0      1            0   \n",
       "2          3      7          4  2015-09-17   1.0      1            0   \n",
       "3          4      8          4  2015-09-17   1.0      1            0   \n",
       "4          5      9          4  2015-09-17   1.0      1            0   \n",
       "...      ...    ...        ...         ...   ...    ...          ...   \n",
       "41083  41084   1111          6  2015-08-01   1.0      0            0   \n",
       "41084  41085   1112          6  2015-08-01   1.0      0            0   \n",
       "41085  41086   1113          6  2015-08-01   1.0      0            0   \n",
       "41086  41087   1114          6  2015-08-01   1.0      0            0   \n",
       "41087  41088   1115          6  2015-08-01   1.0      0            0   \n",
       "\n",
       "       SchoolHoliday  \n",
       "0                  0  \n",
       "1                  0  \n",
       "2                  0  \n",
       "3                  0  \n",
       "4                  0  \n",
       "...              ...  \n",
       "41083              0  \n",
       "41084              0  \n",
       "41085              0  \n",
       "41086              0  \n",
       "41087              1  \n",
       "\n",
       "[41088 rows x 8 columns]"
      ]
     },
     "execution_count": 6,
     "metadata": {},
     "output_type": "execute_result"
    }
   ],
   "source": [
    "test_df"
   ]
  },
  {
   "cell_type": "code",
   "execution_count": 7,
   "id": "lovely-shelter",
   "metadata": {
    "scrolled": false
   },
   "outputs": [
    {
     "data": {
      "text/html": [
       "<div>\n",
       "<style scoped>\n",
       "    .dataframe tbody tr th:only-of-type {\n",
       "        vertical-align: middle;\n",
       "    }\n",
       "\n",
       "    .dataframe tbody tr th {\n",
       "        vertical-align: top;\n",
       "    }\n",
       "\n",
       "    .dataframe thead th {\n",
       "        text-align: right;\n",
       "    }\n",
       "</style>\n",
       "<table border=\"1\" class=\"dataframe\">\n",
       "  <thead>\n",
       "    <tr style=\"text-align: right;\">\n",
       "      <th></th>\n",
       "      <th>Id</th>\n",
       "      <th>Sales</th>\n",
       "    </tr>\n",
       "  </thead>\n",
       "  <tbody>\n",
       "    <tr>\n",
       "      <th>0</th>\n",
       "      <td>1</td>\n",
       "      <td>0</td>\n",
       "    </tr>\n",
       "    <tr>\n",
       "      <th>1</th>\n",
       "      <td>2</td>\n",
       "      <td>0</td>\n",
       "    </tr>\n",
       "    <tr>\n",
       "      <th>2</th>\n",
       "      <td>3</td>\n",
       "      <td>0</td>\n",
       "    </tr>\n",
       "    <tr>\n",
       "      <th>3</th>\n",
       "      <td>4</td>\n",
       "      <td>0</td>\n",
       "    </tr>\n",
       "    <tr>\n",
       "      <th>4</th>\n",
       "      <td>5</td>\n",
       "      <td>0</td>\n",
       "    </tr>\n",
       "    <tr>\n",
       "      <th>...</th>\n",
       "      <td>...</td>\n",
       "      <td>...</td>\n",
       "    </tr>\n",
       "    <tr>\n",
       "      <th>41083</th>\n",
       "      <td>41084</td>\n",
       "      <td>0</td>\n",
       "    </tr>\n",
       "    <tr>\n",
       "      <th>41084</th>\n",
       "      <td>41085</td>\n",
       "      <td>0</td>\n",
       "    </tr>\n",
       "    <tr>\n",
       "      <th>41085</th>\n",
       "      <td>41086</td>\n",
       "      <td>0</td>\n",
       "    </tr>\n",
       "    <tr>\n",
       "      <th>41086</th>\n",
       "      <td>41087</td>\n",
       "      <td>0</td>\n",
       "    </tr>\n",
       "    <tr>\n",
       "      <th>41087</th>\n",
       "      <td>41088</td>\n",
       "      <td>0</td>\n",
       "    </tr>\n",
       "  </tbody>\n",
       "</table>\n",
       "<p>41088 rows × 2 columns</p>\n",
       "</div>"
      ],
      "text/plain": [
       "          Id  Sales\n",
       "0          1      0\n",
       "1          2      0\n",
       "2          3      0\n",
       "3          4      0\n",
       "4          5      0\n",
       "...      ...    ...\n",
       "41083  41084      0\n",
       "41084  41085      0\n",
       "41085  41086      0\n",
       "41086  41087      0\n",
       "41087  41088      0\n",
       "\n",
       "[41088 rows x 2 columns]"
      ]
     },
     "execution_count": 7,
     "metadata": {},
     "output_type": "execute_result"
    }
   ],
   "source": [
    "submission_df"
   ]
  },
  {
   "cell_type": "code",
   "execution_count": 8,
   "id": "sustainable-french",
   "metadata": {
    "scrolled": false
   },
   "outputs": [
    {
     "data": {
      "text/html": [
       "<div>\n",
       "<style scoped>\n",
       "    .dataframe tbody tr th:only-of-type {\n",
       "        vertical-align: middle;\n",
       "    }\n",
       "\n",
       "    .dataframe tbody tr th {\n",
       "        vertical-align: top;\n",
       "    }\n",
       "\n",
       "    .dataframe thead th {\n",
       "        text-align: right;\n",
       "    }\n",
       "</style>\n",
       "<table border=\"1\" class=\"dataframe\">\n",
       "  <thead>\n",
       "    <tr style=\"text-align: right;\">\n",
       "      <th></th>\n",
       "      <th>Store</th>\n",
       "      <th>StoreType</th>\n",
       "      <th>Assortment</th>\n",
       "      <th>CompetitionDistance</th>\n",
       "      <th>CompetitionOpenSinceMonth</th>\n",
       "      <th>CompetitionOpenSinceYear</th>\n",
       "      <th>Promo2</th>\n",
       "      <th>Promo2SinceWeek</th>\n",
       "      <th>Promo2SinceYear</th>\n",
       "      <th>PromoInterval</th>\n",
       "    </tr>\n",
       "  </thead>\n",
       "  <tbody>\n",
       "    <tr>\n",
       "      <th>0</th>\n",
       "      <td>1</td>\n",
       "      <td>c</td>\n",
       "      <td>a</td>\n",
       "      <td>1270.0</td>\n",
       "      <td>9.0</td>\n",
       "      <td>2008.0</td>\n",
       "      <td>0</td>\n",
       "      <td>NaN</td>\n",
       "      <td>NaN</td>\n",
       "      <td>NaN</td>\n",
       "    </tr>\n",
       "    <tr>\n",
       "      <th>1</th>\n",
       "      <td>2</td>\n",
       "      <td>a</td>\n",
       "      <td>a</td>\n",
       "      <td>570.0</td>\n",
       "      <td>11.0</td>\n",
       "      <td>2007.0</td>\n",
       "      <td>1</td>\n",
       "      <td>13.0</td>\n",
       "      <td>2010.0</td>\n",
       "      <td>Jan,Apr,Jul,Oct</td>\n",
       "    </tr>\n",
       "    <tr>\n",
       "      <th>2</th>\n",
       "      <td>3</td>\n",
       "      <td>a</td>\n",
       "      <td>a</td>\n",
       "      <td>14130.0</td>\n",
       "      <td>12.0</td>\n",
       "      <td>2006.0</td>\n",
       "      <td>1</td>\n",
       "      <td>14.0</td>\n",
       "      <td>2011.0</td>\n",
       "      <td>Jan,Apr,Jul,Oct</td>\n",
       "    </tr>\n",
       "    <tr>\n",
       "      <th>3</th>\n",
       "      <td>4</td>\n",
       "      <td>c</td>\n",
       "      <td>c</td>\n",
       "      <td>620.0</td>\n",
       "      <td>9.0</td>\n",
       "      <td>2009.0</td>\n",
       "      <td>0</td>\n",
       "      <td>NaN</td>\n",
       "      <td>NaN</td>\n",
       "      <td>NaN</td>\n",
       "    </tr>\n",
       "    <tr>\n",
       "      <th>4</th>\n",
       "      <td>5</td>\n",
       "      <td>a</td>\n",
       "      <td>a</td>\n",
       "      <td>29910.0</td>\n",
       "      <td>4.0</td>\n",
       "      <td>2015.0</td>\n",
       "      <td>0</td>\n",
       "      <td>NaN</td>\n",
       "      <td>NaN</td>\n",
       "      <td>NaN</td>\n",
       "    </tr>\n",
       "    <tr>\n",
       "      <th>...</th>\n",
       "      <td>...</td>\n",
       "      <td>...</td>\n",
       "      <td>...</td>\n",
       "      <td>...</td>\n",
       "      <td>...</td>\n",
       "      <td>...</td>\n",
       "      <td>...</td>\n",
       "      <td>...</td>\n",
       "      <td>...</td>\n",
       "      <td>...</td>\n",
       "    </tr>\n",
       "    <tr>\n",
       "      <th>1110</th>\n",
       "      <td>1111</td>\n",
       "      <td>a</td>\n",
       "      <td>a</td>\n",
       "      <td>1900.0</td>\n",
       "      <td>6.0</td>\n",
       "      <td>2014.0</td>\n",
       "      <td>1</td>\n",
       "      <td>31.0</td>\n",
       "      <td>2013.0</td>\n",
       "      <td>Jan,Apr,Jul,Oct</td>\n",
       "    </tr>\n",
       "    <tr>\n",
       "      <th>1111</th>\n",
       "      <td>1112</td>\n",
       "      <td>c</td>\n",
       "      <td>c</td>\n",
       "      <td>1880.0</td>\n",
       "      <td>4.0</td>\n",
       "      <td>2006.0</td>\n",
       "      <td>0</td>\n",
       "      <td>NaN</td>\n",
       "      <td>NaN</td>\n",
       "      <td>NaN</td>\n",
       "    </tr>\n",
       "    <tr>\n",
       "      <th>1112</th>\n",
       "      <td>1113</td>\n",
       "      <td>a</td>\n",
       "      <td>c</td>\n",
       "      <td>9260.0</td>\n",
       "      <td>NaN</td>\n",
       "      <td>NaN</td>\n",
       "      <td>0</td>\n",
       "      <td>NaN</td>\n",
       "      <td>NaN</td>\n",
       "      <td>NaN</td>\n",
       "    </tr>\n",
       "    <tr>\n",
       "      <th>1113</th>\n",
       "      <td>1114</td>\n",
       "      <td>a</td>\n",
       "      <td>c</td>\n",
       "      <td>870.0</td>\n",
       "      <td>NaN</td>\n",
       "      <td>NaN</td>\n",
       "      <td>0</td>\n",
       "      <td>NaN</td>\n",
       "      <td>NaN</td>\n",
       "      <td>NaN</td>\n",
       "    </tr>\n",
       "    <tr>\n",
       "      <th>1114</th>\n",
       "      <td>1115</td>\n",
       "      <td>d</td>\n",
       "      <td>c</td>\n",
       "      <td>5350.0</td>\n",
       "      <td>NaN</td>\n",
       "      <td>NaN</td>\n",
       "      <td>1</td>\n",
       "      <td>22.0</td>\n",
       "      <td>2012.0</td>\n",
       "      <td>Mar,Jun,Sept,Dec</td>\n",
       "    </tr>\n",
       "  </tbody>\n",
       "</table>\n",
       "<p>1115 rows × 10 columns</p>\n",
       "</div>"
      ],
      "text/plain": [
       "      Store StoreType Assortment  CompetitionDistance  \\\n",
       "0         1         c          a               1270.0   \n",
       "1         2         a          a                570.0   \n",
       "2         3         a          a              14130.0   \n",
       "3         4         c          c                620.0   \n",
       "4         5         a          a              29910.0   \n",
       "...     ...       ...        ...                  ...   \n",
       "1110   1111         a          a               1900.0   \n",
       "1111   1112         c          c               1880.0   \n",
       "1112   1113         a          c               9260.0   \n",
       "1113   1114         a          c                870.0   \n",
       "1114   1115         d          c               5350.0   \n",
       "\n",
       "      CompetitionOpenSinceMonth  CompetitionOpenSinceYear  Promo2  \\\n",
       "0                           9.0                    2008.0       0   \n",
       "1                          11.0                    2007.0       1   \n",
       "2                          12.0                    2006.0       1   \n",
       "3                           9.0                    2009.0       0   \n",
       "4                           4.0                    2015.0       0   \n",
       "...                         ...                       ...     ...   \n",
       "1110                        6.0                    2014.0       1   \n",
       "1111                        4.0                    2006.0       0   \n",
       "1112                        NaN                       NaN       0   \n",
       "1113                        NaN                       NaN       0   \n",
       "1114                        NaN                       NaN       1   \n",
       "\n",
       "      Promo2SinceWeek  Promo2SinceYear     PromoInterval  \n",
       "0                 NaN              NaN               NaN  \n",
       "1                13.0           2010.0   Jan,Apr,Jul,Oct  \n",
       "2                14.0           2011.0   Jan,Apr,Jul,Oct  \n",
       "3                 NaN              NaN               NaN  \n",
       "4                 NaN              NaN               NaN  \n",
       "...               ...              ...               ...  \n",
       "1110             31.0           2013.0   Jan,Apr,Jul,Oct  \n",
       "1111              NaN              NaN               NaN  \n",
       "1112              NaN              NaN               NaN  \n",
       "1113              NaN              NaN               NaN  \n",
       "1114             22.0           2012.0  Mar,Jun,Sept,Dec  \n",
       "\n",
       "[1115 rows x 10 columns]"
      ]
     },
     "execution_count": 8,
     "metadata": {},
     "output_type": "execute_result"
    }
   ],
   "source": [
    "store_df"
   ]
  },
  {
   "cell_type": "markdown",
   "id": "obvious-immune",
   "metadata": {},
   "source": [
    "As store_df has more sense of data, let's merge the information from `store_df` into `train_df` and `test_df`.\n",
    "We are going to use outer left join."
   ]
  },
  {
   "cell_type": "code",
   "execution_count": 9,
   "id": "weird-tracker",
   "metadata": {},
   "outputs": [],
   "source": [
    "merged_df = ross_df.merge(store_df, how='left', on='Store')\n",
    "merged_test_df = test_df.merge(store_df, how='left', on='Store')"
   ]
  },
  {
   "cell_type": "code",
   "execution_count": 10,
   "id": "solved-actor",
   "metadata": {},
   "outputs": [
    {
     "data": {
      "text/html": [
       "<div>\n",
       "<style scoped>\n",
       "    .dataframe tbody tr th:only-of-type {\n",
       "        vertical-align: middle;\n",
       "    }\n",
       "\n",
       "    .dataframe tbody tr th {\n",
       "        vertical-align: top;\n",
       "    }\n",
       "\n",
       "    .dataframe thead th {\n",
       "        text-align: right;\n",
       "    }\n",
       "</style>\n",
       "<table border=\"1\" class=\"dataframe\">\n",
       "  <thead>\n",
       "    <tr style=\"text-align: right;\">\n",
       "      <th></th>\n",
       "      <th>Store</th>\n",
       "      <th>DayOfWeek</th>\n",
       "      <th>Date</th>\n",
       "      <th>Sales</th>\n",
       "      <th>Customers</th>\n",
       "      <th>Open</th>\n",
       "      <th>Promo</th>\n",
       "      <th>StateHoliday</th>\n",
       "      <th>SchoolHoliday</th>\n",
       "      <th>StoreType</th>\n",
       "      <th>Assortment</th>\n",
       "      <th>CompetitionDistance</th>\n",
       "      <th>CompetitionOpenSinceMonth</th>\n",
       "      <th>CompetitionOpenSinceYear</th>\n",
       "      <th>Promo2</th>\n",
       "      <th>Promo2SinceWeek</th>\n",
       "      <th>Promo2SinceYear</th>\n",
       "      <th>PromoInterval</th>\n",
       "    </tr>\n",
       "  </thead>\n",
       "  <tbody>\n",
       "    <tr>\n",
       "      <th>0</th>\n",
       "      <td>1</td>\n",
       "      <td>5</td>\n",
       "      <td>2015-07-31</td>\n",
       "      <td>5263</td>\n",
       "      <td>555</td>\n",
       "      <td>1</td>\n",
       "      <td>1</td>\n",
       "      <td>0</td>\n",
       "      <td>1</td>\n",
       "      <td>c</td>\n",
       "      <td>a</td>\n",
       "      <td>1270.0</td>\n",
       "      <td>9.0</td>\n",
       "      <td>2008.0</td>\n",
       "      <td>0</td>\n",
       "      <td>NaN</td>\n",
       "      <td>NaN</td>\n",
       "      <td>NaN</td>\n",
       "    </tr>\n",
       "    <tr>\n",
       "      <th>1</th>\n",
       "      <td>2</td>\n",
       "      <td>5</td>\n",
       "      <td>2015-07-31</td>\n",
       "      <td>6064</td>\n",
       "      <td>625</td>\n",
       "      <td>1</td>\n",
       "      <td>1</td>\n",
       "      <td>0</td>\n",
       "      <td>1</td>\n",
       "      <td>a</td>\n",
       "      <td>a</td>\n",
       "      <td>570.0</td>\n",
       "      <td>11.0</td>\n",
       "      <td>2007.0</td>\n",
       "      <td>1</td>\n",
       "      <td>13.0</td>\n",
       "      <td>2010.0</td>\n",
       "      <td>Jan,Apr,Jul,Oct</td>\n",
       "    </tr>\n",
       "    <tr>\n",
       "      <th>2</th>\n",
       "      <td>3</td>\n",
       "      <td>5</td>\n",
       "      <td>2015-07-31</td>\n",
       "      <td>8314</td>\n",
       "      <td>821</td>\n",
       "      <td>1</td>\n",
       "      <td>1</td>\n",
       "      <td>0</td>\n",
       "      <td>1</td>\n",
       "      <td>a</td>\n",
       "      <td>a</td>\n",
       "      <td>14130.0</td>\n",
       "      <td>12.0</td>\n",
       "      <td>2006.0</td>\n",
       "      <td>1</td>\n",
       "      <td>14.0</td>\n",
       "      <td>2011.0</td>\n",
       "      <td>Jan,Apr,Jul,Oct</td>\n",
       "    </tr>\n",
       "    <tr>\n",
       "      <th>3</th>\n",
       "      <td>4</td>\n",
       "      <td>5</td>\n",
       "      <td>2015-07-31</td>\n",
       "      <td>13995</td>\n",
       "      <td>1498</td>\n",
       "      <td>1</td>\n",
       "      <td>1</td>\n",
       "      <td>0</td>\n",
       "      <td>1</td>\n",
       "      <td>c</td>\n",
       "      <td>c</td>\n",
       "      <td>620.0</td>\n",
       "      <td>9.0</td>\n",
       "      <td>2009.0</td>\n",
       "      <td>0</td>\n",
       "      <td>NaN</td>\n",
       "      <td>NaN</td>\n",
       "      <td>NaN</td>\n",
       "    </tr>\n",
       "    <tr>\n",
       "      <th>4</th>\n",
       "      <td>5</td>\n",
       "      <td>5</td>\n",
       "      <td>2015-07-31</td>\n",
       "      <td>4822</td>\n",
       "      <td>559</td>\n",
       "      <td>1</td>\n",
       "      <td>1</td>\n",
       "      <td>0</td>\n",
       "      <td>1</td>\n",
       "      <td>a</td>\n",
       "      <td>a</td>\n",
       "      <td>29910.0</td>\n",
       "      <td>4.0</td>\n",
       "      <td>2015.0</td>\n",
       "      <td>0</td>\n",
       "      <td>NaN</td>\n",
       "      <td>NaN</td>\n",
       "      <td>NaN</td>\n",
       "    </tr>\n",
       "    <tr>\n",
       "      <th>...</th>\n",
       "      <td>...</td>\n",
       "      <td>...</td>\n",
       "      <td>...</td>\n",
       "      <td>...</td>\n",
       "      <td>...</td>\n",
       "      <td>...</td>\n",
       "      <td>...</td>\n",
       "      <td>...</td>\n",
       "      <td>...</td>\n",
       "      <td>...</td>\n",
       "      <td>...</td>\n",
       "      <td>...</td>\n",
       "      <td>...</td>\n",
       "      <td>...</td>\n",
       "      <td>...</td>\n",
       "      <td>...</td>\n",
       "      <td>...</td>\n",
       "      <td>...</td>\n",
       "    </tr>\n",
       "    <tr>\n",
       "      <th>1017204</th>\n",
       "      <td>1111</td>\n",
       "      <td>2</td>\n",
       "      <td>2013-01-01</td>\n",
       "      <td>0</td>\n",
       "      <td>0</td>\n",
       "      <td>0</td>\n",
       "      <td>0</td>\n",
       "      <td>a</td>\n",
       "      <td>1</td>\n",
       "      <td>a</td>\n",
       "      <td>a</td>\n",
       "      <td>1900.0</td>\n",
       "      <td>6.0</td>\n",
       "      <td>2014.0</td>\n",
       "      <td>1</td>\n",
       "      <td>31.0</td>\n",
       "      <td>2013.0</td>\n",
       "      <td>Jan,Apr,Jul,Oct</td>\n",
       "    </tr>\n",
       "    <tr>\n",
       "      <th>1017205</th>\n",
       "      <td>1112</td>\n",
       "      <td>2</td>\n",
       "      <td>2013-01-01</td>\n",
       "      <td>0</td>\n",
       "      <td>0</td>\n",
       "      <td>0</td>\n",
       "      <td>0</td>\n",
       "      <td>a</td>\n",
       "      <td>1</td>\n",
       "      <td>c</td>\n",
       "      <td>c</td>\n",
       "      <td>1880.0</td>\n",
       "      <td>4.0</td>\n",
       "      <td>2006.0</td>\n",
       "      <td>0</td>\n",
       "      <td>NaN</td>\n",
       "      <td>NaN</td>\n",
       "      <td>NaN</td>\n",
       "    </tr>\n",
       "    <tr>\n",
       "      <th>1017206</th>\n",
       "      <td>1113</td>\n",
       "      <td>2</td>\n",
       "      <td>2013-01-01</td>\n",
       "      <td>0</td>\n",
       "      <td>0</td>\n",
       "      <td>0</td>\n",
       "      <td>0</td>\n",
       "      <td>a</td>\n",
       "      <td>1</td>\n",
       "      <td>a</td>\n",
       "      <td>c</td>\n",
       "      <td>9260.0</td>\n",
       "      <td>NaN</td>\n",
       "      <td>NaN</td>\n",
       "      <td>0</td>\n",
       "      <td>NaN</td>\n",
       "      <td>NaN</td>\n",
       "      <td>NaN</td>\n",
       "    </tr>\n",
       "    <tr>\n",
       "      <th>1017207</th>\n",
       "      <td>1114</td>\n",
       "      <td>2</td>\n",
       "      <td>2013-01-01</td>\n",
       "      <td>0</td>\n",
       "      <td>0</td>\n",
       "      <td>0</td>\n",
       "      <td>0</td>\n",
       "      <td>a</td>\n",
       "      <td>1</td>\n",
       "      <td>a</td>\n",
       "      <td>c</td>\n",
       "      <td>870.0</td>\n",
       "      <td>NaN</td>\n",
       "      <td>NaN</td>\n",
       "      <td>0</td>\n",
       "      <td>NaN</td>\n",
       "      <td>NaN</td>\n",
       "      <td>NaN</td>\n",
       "    </tr>\n",
       "    <tr>\n",
       "      <th>1017208</th>\n",
       "      <td>1115</td>\n",
       "      <td>2</td>\n",
       "      <td>2013-01-01</td>\n",
       "      <td>0</td>\n",
       "      <td>0</td>\n",
       "      <td>0</td>\n",
       "      <td>0</td>\n",
       "      <td>a</td>\n",
       "      <td>1</td>\n",
       "      <td>d</td>\n",
       "      <td>c</td>\n",
       "      <td>5350.0</td>\n",
       "      <td>NaN</td>\n",
       "      <td>NaN</td>\n",
       "      <td>1</td>\n",
       "      <td>22.0</td>\n",
       "      <td>2012.0</td>\n",
       "      <td>Mar,Jun,Sept,Dec</td>\n",
       "    </tr>\n",
       "  </tbody>\n",
       "</table>\n",
       "<p>1017209 rows × 18 columns</p>\n",
       "</div>"
      ],
      "text/plain": [
       "         Store  DayOfWeek        Date  Sales  Customers  Open  Promo  \\\n",
       "0            1          5  2015-07-31   5263        555     1      1   \n",
       "1            2          5  2015-07-31   6064        625     1      1   \n",
       "2            3          5  2015-07-31   8314        821     1      1   \n",
       "3            4          5  2015-07-31  13995       1498     1      1   \n",
       "4            5          5  2015-07-31   4822        559     1      1   \n",
       "...        ...        ...         ...    ...        ...   ...    ...   \n",
       "1017204   1111          2  2013-01-01      0          0     0      0   \n",
       "1017205   1112          2  2013-01-01      0          0     0      0   \n",
       "1017206   1113          2  2013-01-01      0          0     0      0   \n",
       "1017207   1114          2  2013-01-01      0          0     0      0   \n",
       "1017208   1115          2  2013-01-01      0          0     0      0   \n",
       "\n",
       "        StateHoliday  SchoolHoliday StoreType Assortment  CompetitionDistance  \\\n",
       "0                  0              1         c          a               1270.0   \n",
       "1                  0              1         a          a                570.0   \n",
       "2                  0              1         a          a              14130.0   \n",
       "3                  0              1         c          c                620.0   \n",
       "4                  0              1         a          a              29910.0   \n",
       "...              ...            ...       ...        ...                  ...   \n",
       "1017204            a              1         a          a               1900.0   \n",
       "1017205            a              1         c          c               1880.0   \n",
       "1017206            a              1         a          c               9260.0   \n",
       "1017207            a              1         a          c                870.0   \n",
       "1017208            a              1         d          c               5350.0   \n",
       "\n",
       "         CompetitionOpenSinceMonth  CompetitionOpenSinceYear  Promo2  \\\n",
       "0                              9.0                    2008.0       0   \n",
       "1                             11.0                    2007.0       1   \n",
       "2                             12.0                    2006.0       1   \n",
       "3                              9.0                    2009.0       0   \n",
       "4                              4.0                    2015.0       0   \n",
       "...                            ...                       ...     ...   \n",
       "1017204                        6.0                    2014.0       1   \n",
       "1017205                        4.0                    2006.0       0   \n",
       "1017206                        NaN                       NaN       0   \n",
       "1017207                        NaN                       NaN       0   \n",
       "1017208                        NaN                       NaN       1   \n",
       "\n",
       "         Promo2SinceWeek  Promo2SinceYear     PromoInterval  \n",
       "0                    NaN              NaN               NaN  \n",
       "1                   13.0           2010.0   Jan,Apr,Jul,Oct  \n",
       "2                   14.0           2011.0   Jan,Apr,Jul,Oct  \n",
       "3                    NaN              NaN               NaN  \n",
       "4                    NaN              NaN               NaN  \n",
       "...                  ...              ...               ...  \n",
       "1017204             31.0           2013.0   Jan,Apr,Jul,Oct  \n",
       "1017205              NaN              NaN               NaN  \n",
       "1017206              NaN              NaN               NaN  \n",
       "1017207              NaN              NaN               NaN  \n",
       "1017208             22.0           2012.0  Mar,Jun,Sept,Dec  \n",
       "\n",
       "[1017209 rows x 18 columns]"
      ]
     },
     "execution_count": 10,
     "metadata": {},
     "output_type": "execute_result"
    }
   ],
   "source": [
    "merged_df"
   ]
  },
  {
   "cell_type": "markdown",
   "id": "a9692f73",
   "metadata": {},
   "source": [
    "## EDA\n",
    "Lets perform EDA and understand the distribution and relationships between different features and how it affects Sales of a Store"
   ]
  },
  {
   "cell_type": "code",
   "execution_count": 11,
   "id": "e93bd846",
   "metadata": {},
   "outputs": [],
   "source": [
    "#importing libraries\n",
    "\n",
    "import matplotlib.pyplot as plt\n",
    "import seaborn as sns\n",
    "sns.set_style('darkgrid')\n",
    "%matplotlib inline"
   ]
  },
  {
   "cell_type": "code",
   "execution_count": 12,
   "id": "88190ca4",
   "metadata": {},
   "outputs": [
    {
     "name": "stdout",
     "output_type": "stream",
     "text": [
      "<class 'pandas.core.frame.DataFrame'>\n",
      "Int64Index: 1017209 entries, 0 to 1017208\n",
      "Data columns (total 18 columns):\n",
      " #   Column                     Non-Null Count    Dtype  \n",
      "---  ------                     --------------    -----  \n",
      " 0   Store                      1017209 non-null  int64  \n",
      " 1   DayOfWeek                  1017209 non-null  int64  \n",
      " 2   Date                       1017209 non-null  object \n",
      " 3   Sales                      1017209 non-null  int64  \n",
      " 4   Customers                  1017209 non-null  int64  \n",
      " 5   Open                       1017209 non-null  int64  \n",
      " 6   Promo                      1017209 non-null  int64  \n",
      " 7   StateHoliday               1017209 non-null  object \n",
      " 8   SchoolHoliday              1017209 non-null  int64  \n",
      " 9   StoreType                  1017209 non-null  object \n",
      " 10  Assortment                 1017209 non-null  object \n",
      " 11  CompetitionDistance        1014567 non-null  float64\n",
      " 12  CompetitionOpenSinceMonth  693861 non-null   float64\n",
      " 13  CompetitionOpenSinceYear   693861 non-null   float64\n",
      " 14  Promo2                     1017209 non-null  int64  \n",
      " 15  Promo2SinceWeek            509178 non-null   float64\n",
      " 16  Promo2SinceYear            509178 non-null   float64\n",
      " 17  PromoInterval              509178 non-null   object \n",
      "dtypes: float64(5), int64(8), object(5)\n",
      "memory usage: 147.5+ MB\n"
     ]
    }
   ],
   "source": [
    "merged_df.info()"
   ]
  },
  {
   "cell_type": "code",
   "execution_count": 13,
   "id": "ea92928b",
   "metadata": {},
   "outputs": [
    {
     "data": {
      "text/plain": [
       "Store                             0\n",
       "DayOfWeek                         0\n",
       "Date                              0\n",
       "Sales                             0\n",
       "Customers                         0\n",
       "Open                              0\n",
       "Promo                             0\n",
       "StateHoliday                      0\n",
       "SchoolHoliday                     0\n",
       "StoreType                         0\n",
       "Assortment                        0\n",
       "CompetitionDistance            2642\n",
       "CompetitionOpenSinceMonth    323348\n",
       "CompetitionOpenSinceYear     323348\n",
       "Promo2                            0\n",
       "Promo2SinceWeek              508031\n",
       "Promo2SinceYear              508031\n",
       "PromoInterval                508031\n",
       "dtype: int64"
      ]
     },
     "execution_count": 13,
     "metadata": {},
     "output_type": "execute_result"
    }
   ],
   "source": [
    "merged_df.isna().sum()"
   ]
  },
  {
   "cell_type": "code",
   "execution_count": 15,
   "id": "5218d83f",
   "metadata": {},
   "outputs": [
    {
     "data": {
      "text/plain": [
       "<AxesSubplot:>"
      ]
     },
     "execution_count": 15,
     "metadata": {},
     "output_type": "execute_result"
    },
    {
     "data": {
      "image/png": "[encoded data removed]",
      "text/plain": [
       "<Figure size 1080x936 with 2 Axes>"
      ]
     },
     "metadata": {
      "needs_background": "light"
     },
     "output_type": "display_data"
    }
   ],
   "source": [
    "#drawing correlation matrix\n",
    "corr = merged_df.corr()\n",
    "plt.figure(figsize=(15,13))\n",
    "sns.heatmap(corr)"
   ]
  },
  {
   "cell_type": "code",
   "execution_count": 16,
   "id": "e07e293d",
   "metadata": {},
   "outputs": [
    {
     "data": {
      "text/plain": [
       "Text(0.5, 1.0, 'Customers vs Sales')"
      ]
     },
     "execution_count": 16,
     "metadata": {},
     "output_type": "execute_result"
    },
    {
     "data": {
      "image/png": "[encoded data removed]",
      "text/plain": [
       "<Figure size 1080x936 with 1 Axes>"
      ]
     },
     "metadata": {
      "needs_background": "light"
     },
     "output_type": "display_data"
    }
   ],
   "source": [
    "#plotting graph between Customers and Sales\n",
    "\n",
    "plt.figure(figsize=(15,13))\n",
    "sns.scatterplot(data=merged_df, x=\"Customers\", y=\"Sales\", hue = \"StoreType\").set_title('Customers vs Sales')"
   ]
  },
  {
   "cell_type": "code",
   "execution_count": 17,
   "id": "b7b0d97a",
   "metadata": {},
   "outputs": [
    {
     "data": {
      "text/plain": [
       "Text(0.5, 1.0, 'Customers in different Stores')"
      ]
     },
     "execution_count": 17,
     "metadata": {},
     "output_type": "execute_result"
    },
    {
     "data": {
      "image/png": "[encoded data removed]",
      "text/plain": [
       "<Figure size 1080x288 with 2 Axes>"
      ]
     },
     "metadata": {
      "needs_background": "light"
     },
     "output_type": "display_data"
    }
   ],
   "source": [
    "#drawing plots of StoreTypes and no of customers in different StoreTypes\n",
    "\n",
    "fig, (axis1,axis2) = plt.subplots(1,2,figsize=(15,4))\n",
    "\n",
    "sns.countplot(x='StoreType', data=merged_df, ax=axis1).set_title('Number of different Stores')\n",
    "sns.barplot(x='StoreType', y='Customers', data=merged_df, ax=axis2).set_title('Customers in different Stores')"
   ]
  },
  {
   "cell_type": "code",
   "execution_count": 18,
   "id": "0cce0c05",
   "metadata": {},
   "outputs": [
    {
     "data": {
      "text/plain": [
       "Text(0.5, 1.0, 'Customers on different days')"
      ]
     },
     "execution_count": 18,
     "metadata": {},
     "output_type": "execute_result"
    },
    {
     "data": {
      "image/png": "[encoded data removed]",
      "text/plain": [
       "<Figure size 1080x288 with 2 Axes>"
      ]
     },
     "metadata": {
      "needs_background": "light"
     },
     "output_type": "display_data"
    }
   ],
   "source": [
    "#drawing plots of DayOfWeek vs Sales and DayOfWeek vs Customers\n",
    "\n",
    "fig, (axis1,axis2) = plt.subplots(1,2,figsize=(15,4))\n",
    "\n",
    "sns.barplot(x='DayOfWeek', y='Sales', data=merged_df, ax=axis1).set_title('Sales on different days')\n",
    "sns.barplot(x='DayOfWeek', y='Customers', data=merged_df, ax=axis2).set_title('Customers on different days')"
   ]
  },
  {
   "cell_type": "code",
   "execution_count": 19,
   "id": "4be7ca85",
   "metadata": {},
   "outputs": [
    {
     "data": {
      "text/plain": [
       "Text(0.5, 1.0, 'Effect of CompetitionDistance on Customers')"
      ]
     },
     "execution_count": 19,
     "metadata": {},
     "output_type": "execute_result"
    },
    {
     "data": {
      "image/png": "[encoded data removed]",
      "text/plain": [
       "<Figure size 1080x288 with 2 Axes>"
      ]
     },
     "metadata": {
      "needs_background": "light"
     },
     "output_type": "display_data"
    }
   ],
   "source": [
    "#drawing plots of CompetitionDistance vs Sales and CompetitionDistance vs Customers\n",
    "\n",
    "fig, (axis1,axis2) = plt.subplots(1,2,figsize=(15,4))\n",
    "\n",
    "sns.scatterplot(x='CompetitionDistance', y='Sales', hue = \"StoreType\", data=merged_df, ax=axis1).set_title('Effect of CompetitionDistance on Sales')\n",
    "sns.scatterplot(x='CompetitionDistance', y='Customers', hue = \"StoreType\", data=merged_df, ax=axis2).set_title('Effect of CompetitionDistance on Customers')"
   ]
  },
  {
   "cell_type": "code",
   "execution_count": 20,
   "id": "2a754c9d",
   "metadata": {},
   "outputs": [
    {
     "data": {
      "text/plain": [
       "Text(0.5, 1.0, 'customers across different Promo2')"
      ]
     },
     "execution_count": 20,
     "metadata": {},
     "output_type": "execute_result"
    },
    {
     "data": {
      "image/png": "[encoded data removed]",
      "text/plain": [
       "<Figure size 1080x288 with 2 Axes>"
      ]
     },
     "metadata": {
      "needs_background": "light"
     },
     "output_type": "display_data"
    }
   ],
   "source": [
    "#drawing plots of Promo vs Sales and Promo vs Customers\n",
    "\n",
    "fig, (axis1,axis2) = plt.subplots(1,2,figsize=(15,4))\n",
    "\n",
    "sns.barplot(x='Promo', y='Sales', data=merged_df, ax=axis1).set_title('sales across different Promo2')\n",
    "sns.barplot(x='Promo', y='Customers', data=merged_df, ax=axis2).set_title('customers across different Promo2')"
   ]
  },
  {
   "cell_type": "code",
   "execution_count": 21,
   "id": "3e8e01a9",
   "metadata": {},
   "outputs": [
    {
     "data": {
      "text/plain": [
       "Text(0.5, 1.0, 'customers across different Promo2')"
      ]
     },
     "execution_count": 21,
     "metadata": {},
     "output_type": "execute_result"
    },
    {
     "data": {
      "image/png": "[encoded data removed]",
      "text/plain": [
       "<Figure size 1080x288 with 2 Axes>"
      ]
     },
     "metadata": {
      "needs_background": "light"
     },
     "output_type": "display_data"
    }
   ],
   "source": [
    "#drawing plots of Promo2 vs Sales and Promo2 vs Customers\n",
    "\n",
    "fig, (axis1,axis2) = plt.subplots(1,2,figsize=(15,4))\n",
    "\n",
    "sns.barplot(x='Promo2', y='Sales', data=merged_df, ax=axis1).set_title('sales across different Promo2')\n",
    "sns.barplot(x='Promo2', y='Customers', data=merged_df, ax=axis2).set_title('customers across different Promo2')"
   ]
  },
  {
   "cell_type": "markdown",
   "id": "0ea1d34a",
   "metadata": {},
   "source": [
    "**Observations:**\n",
    "\n",
    "1. As expected, no of customers has direct relationship with Sales.\n",
    "2. Even though there are less number of stres for StoreType B, it has been serving largest no of customers.\n",
    "3. Storetype A has maximum no of stores however it does not serve that many customers.\n",
    "4. Sales over the week is more or less same however we see a big spike in no of customers on Sundays.\n",
    "5. As obvious, competition ditance has inverse impact on both Sales and Customers.\n",
    "6. Store B has very less competition and that may be the reason of highest no of customers visiting Store B. CompetitionDistance 0 means there is no competition available.\n",
    "7. Sales and No of Customers increases when any store runs a Promo on any day."
   ]
  },
  {
   "cell_type": "markdown",
   "id": "juvenile-lying",
   "metadata": {},
   "source": [
    "## Preprocessing and Feature Engineering\n",
    "\n",
    "Let's take a look at the available columns, and figure out if we can create new columns or apply any useful transformations."
   ]
  },
  {
   "cell_type": "code",
   "execution_count": 22,
   "id": "short-floor",
   "metadata": {},
   "outputs": [
    {
     "name": "stdout",
     "output_type": "stream",
     "text": [
      "<class 'pandas.core.frame.DataFrame'>\n",
      "Int64Index: 1017209 entries, 0 to 1017208\n",
      "Data columns (total 18 columns):\n",
      " #   Column                     Non-Null Count    Dtype  \n",
      "---  ------                     --------------    -----  \n",
      " 0   Store                      1017209 non-null  int64  \n",
      " 1   DayOfWeek                  1017209 non-null  int64  \n",
      " 2   Date                       1017209 non-null  object \n",
      " 3   Sales                      1017209 non-null  int64  \n",
      " 4   Customers                  1017209 non-null  int64  \n",
      " 5   Open                       1017209 non-null  int64  \n",
      " 6   Promo                      1017209 non-null  int64  \n",
      " 7   StateHoliday               1017209 non-null  object \n",
      " 8   SchoolHoliday              1017209 non-null  int64  \n",
      " 9   StoreType                  1017209 non-null  object \n",
      " 10  Assortment                 1017209 non-null  object \n",
      " 11  CompetitionDistance        1014567 non-null  float64\n",
      " 12  CompetitionOpenSinceMonth  693861 non-null   float64\n",
      " 13  CompetitionOpenSinceYear   693861 non-null   float64\n",
      " 14  Promo2                     1017209 non-null  int64  \n",
      " 15  Promo2SinceWeek            509178 non-null   float64\n",
      " 16  Promo2SinceYear            509178 non-null   float64\n",
      " 17  PromoInterval              509178 non-null   object \n",
      "dtypes: float64(5), int64(8), object(5)\n",
      "memory usage: 147.5+ MB\n"
     ]
    }
   ],
   "source": [
    "merged_df.info()"
   ]
  },
  {
   "cell_type": "markdown",
   "id": "anonymous-vermont",
   "metadata": {},
   "source": [
    "\n",
    "### Date\n",
    "\n",
    "We can split date into Day, Year and Months and then it will make more sense of data. First, let's convert `Date` to a `datecolumn` and extract different parts of the date."
   ]
  },
  {
   "cell_type": "code",
   "execution_count": 23,
   "id": "driving-ecuador",
   "metadata": {},
   "outputs": [],
   "source": [
    "def split_date(df):\n",
    "    df['Date'] = pd.to_datetime(df['Date'])\n",
    "    df['Year'] = df.Date.dt.year\n",
    "    df['Month'] = df.Date.dt.month\n",
    "    df['Day'] = df.Date.dt.day\n",
    "    df['WeekOfYear'] = df.Date.dt.isocalendar().week"
   ]
  },
  {
   "cell_type": "code",
   "execution_count": 24,
   "id": "banned-daughter",
   "metadata": {},
   "outputs": [],
   "source": [
    "split_date(merged_df)\n",
    "split_date(merged_test_df)"
   ]
  },
  {
   "cell_type": "code",
   "execution_count": 25,
   "id": "smooth-vegetarian",
   "metadata": {},
   "outputs": [
    {
     "data": {
      "text/html": [
       "<div>\n",
       "<style scoped>\n",
       "    .dataframe tbody tr th:only-of-type {\n",
       "        vertical-align: middle;\n",
       "    }\n",
       "\n",
       "    .dataframe tbody tr th {\n",
       "        vertical-align: top;\n",
       "    }\n",
       "\n",
       "    .dataframe thead th {\n",
       "        text-align: right;\n",
       "    }\n",
       "</style>\n",
       "<table border=\"1\" class=\"dataframe\">\n",
       "  <thead>\n",
       "    <tr style=\"text-align: right;\">\n",
       "      <th></th>\n",
       "      <th>Store</th>\n",
       "      <th>DayOfWeek</th>\n",
       "      <th>Date</th>\n",
       "      <th>Sales</th>\n",
       "      <th>Customers</th>\n",
       "      <th>Open</th>\n",
       "      <th>Promo</th>\n",
       "      <th>StateHoliday</th>\n",
       "      <th>SchoolHoliday</th>\n",
       "      <th>StoreType</th>\n",
       "      <th>Assortment</th>\n",
       "      <th>CompetitionDistance</th>\n",
       "      <th>CompetitionOpenSinceMonth</th>\n",
       "      <th>CompetitionOpenSinceYear</th>\n",
       "      <th>Promo2</th>\n",
       "      <th>Promo2SinceWeek</th>\n",
       "      <th>Promo2SinceYear</th>\n",
       "      <th>PromoInterval</th>\n",
       "      <th>Year</th>\n",
       "      <th>Month</th>\n",
       "      <th>Day</th>\n",
       "      <th>WeekOfYear</th>\n",
       "    </tr>\n",
       "  </thead>\n",
       "  <tbody>\n",
       "    <tr>\n",
       "      <th>0</th>\n",
       "      <td>1</td>\n",
       "      <td>5</td>\n",
       "      <td>2015-07-31</td>\n",
       "      <td>5263</td>\n",
       "      <td>555</td>\n",
       "      <td>1</td>\n",
       "      <td>1</td>\n",
       "      <td>0</td>\n",
       "      <td>1</td>\n",
       "      <td>c</td>\n",
       "      <td>a</td>\n",
       "      <td>1270.0</td>\n",
       "      <td>9.0</td>\n",
       "      <td>2008.0</td>\n",
       "      <td>0</td>\n",
       "      <td>NaN</td>\n",
       "      <td>NaN</td>\n",
       "      <td>NaN</td>\n",
       "      <td>2015</td>\n",
       "      <td>7</td>\n",
       "      <td>31</td>\n",
       "      <td>31</td>\n",
       "    </tr>\n",
       "    <tr>\n",
       "      <th>1</th>\n",
       "      <td>2</td>\n",
       "      <td>5</td>\n",
       "      <td>2015-07-31</td>\n",
       "      <td>6064</td>\n",
       "      <td>625</td>\n",
       "      <td>1</td>\n",
       "      <td>1</td>\n",
       "      <td>0</td>\n",
       "      <td>1</td>\n",
       "      <td>a</td>\n",
       "      <td>a</td>\n",
       "      <td>570.0</td>\n",
       "      <td>11.0</td>\n",
       "      <td>2007.0</td>\n",
       "      <td>1</td>\n",
       "      <td>13.0</td>\n",
       "      <td>2010.0</td>\n",
       "      <td>Jan,Apr,Jul,Oct</td>\n",
       "      <td>2015</td>\n",
       "      <td>7</td>\n",
       "      <td>31</td>\n",
       "      <td>31</td>\n",
       "    </tr>\n",
       "    <tr>\n",
       "      <th>2</th>\n",
       "      <td>3</td>\n",
       "      <td>5</td>\n",
       "      <td>2015-07-31</td>\n",
       "      <td>8314</td>\n",
       "      <td>821</td>\n",
       "      <td>1</td>\n",
       "      <td>1</td>\n",
       "      <td>0</td>\n",
       "      <td>1</td>\n",
       "      <td>a</td>\n",
       "      <td>a</td>\n",
       "      <td>14130.0</td>\n",
       "      <td>12.0</td>\n",
       "      <td>2006.0</td>\n",
       "      <td>1</td>\n",
       "      <td>14.0</td>\n",
       "      <td>2011.0</td>\n",
       "      <td>Jan,Apr,Jul,Oct</td>\n",
       "      <td>2015</td>\n",
       "      <td>7</td>\n",
       "      <td>31</td>\n",
       "      <td>31</td>\n",
       "    </tr>\n",
       "    <tr>\n",
       "      <th>3</th>\n",
       "      <td>4</td>\n",
       "      <td>5</td>\n",
       "      <td>2015-07-31</td>\n",
       "      <td>13995</td>\n",
       "      <td>1498</td>\n",
       "      <td>1</td>\n",
       "      <td>1</td>\n",
       "      <td>0</td>\n",
       "      <td>1</td>\n",
       "      <td>c</td>\n",
       "      <td>c</td>\n",
       "      <td>620.0</td>\n",
       "      <td>9.0</td>\n",
       "      <td>2009.0</td>\n",
       "      <td>0</td>\n",
       "      <td>NaN</td>\n",
       "      <td>NaN</td>\n",
       "      <td>NaN</td>\n",
       "      <td>2015</td>\n",
       "      <td>7</td>\n",
       "      <td>31</td>\n",
       "      <td>31</td>\n",
       "    </tr>\n",
       "    <tr>\n",
       "      <th>4</th>\n",
       "      <td>5</td>\n",
       "      <td>5</td>\n",
       "      <td>2015-07-31</td>\n",
       "      <td>4822</td>\n",
       "      <td>559</td>\n",
       "      <td>1</td>\n",
       "      <td>1</td>\n",
       "      <td>0</td>\n",
       "      <td>1</td>\n",
       "      <td>a</td>\n",
       "      <td>a</td>\n",
       "      <td>29910.0</td>\n",
       "      <td>4.0</td>\n",
       "      <td>2015.0</td>\n",
       "      <td>0</td>\n",
       "      <td>NaN</td>\n",
       "      <td>NaN</td>\n",
       "      <td>NaN</td>\n",
       "      <td>2015</td>\n",
       "      <td>7</td>\n",
       "      <td>31</td>\n",
       "      <td>31</td>\n",
       "    </tr>\n",
       "    <tr>\n",
       "      <th>...</th>\n",
       "      <td>...</td>\n",
       "      <td>...</td>\n",
       "      <td>...</td>\n",
       "      <td>...</td>\n",
       "      <td>...</td>\n",
       "      <td>...</td>\n",
       "      <td>...</td>\n",
       "      <td>...</td>\n",
       "      <td>...</td>\n",
       "      <td>...</td>\n",
       "      <td>...</td>\n",
       "      <td>...</td>\n",
       "      <td>...</td>\n",
       "      <td>...</td>\n",
       "      <td>...</td>\n",
       "      <td>...</td>\n",
       "      <td>...</td>\n",
       "      <td>...</td>\n",
       "      <td>...</td>\n",
       "      <td>...</td>\n",
       "      <td>...</td>\n",
       "      <td>...</td>\n",
       "    </tr>\n",
       "    <tr>\n",
       "      <th>1017204</th>\n",
       "      <td>1111</td>\n",
       "      <td>2</td>\n",
       "      <td>2013-01-01</td>\n",
       "      <td>0</td>\n",
       "      <td>0</td>\n",
       "      <td>0</td>\n",
       "      <td>0</td>\n",
       "      <td>a</td>\n",
       "      <td>1</td>\n",
       "      <td>a</td>\n",
       "      <td>a</td>\n",
       "      <td>1900.0</td>\n",
       "      <td>6.0</td>\n",
       "      <td>2014.0</td>\n",
       "      <td>1</td>\n",
       "      <td>31.0</td>\n",
       "      <td>2013.0</td>\n",
       "      <td>Jan,Apr,Jul,Oct</td>\n",
       "      <td>2013</td>\n",
       "      <td>1</td>\n",
       "      <td>1</td>\n",
       "      <td>1</td>\n",
       "    </tr>\n",
       "    <tr>\n",
       "      <th>1017205</th>\n",
       "      <td>1112</td>\n",
       "      <td>2</td>\n",
       "      <td>2013-01-01</td>\n",
       "      <td>0</td>\n",
       "      <td>0</td>\n",
       "      <td>0</td>\n",
       "      <td>0</td>\n",
       "      <td>a</td>\n",
       "      <td>1</td>\n",
       "      <td>c</td>\n",
       "      <td>c</td>\n",
       "      <td>1880.0</td>\n",
       "      <td>4.0</td>\n",
       "      <td>2006.0</td>\n",
       "      <td>0</td>\n",
       "      <td>NaN</td>\n",
       "      <td>NaN</td>\n",
       "      <td>NaN</td>\n",
       "      <td>2013</td>\n",
       "      <td>1</td>\n",
       "      <td>1</td>\n",
       "      <td>1</td>\n",
       "    </tr>\n",
       "    <tr>\n",
       "      <th>1017206</th>\n",
       "      <td>1113</td>\n",
       "      <td>2</td>\n",
       "      <td>2013-01-01</td>\n",
       "      <td>0</td>\n",
       "      <td>0</td>\n",
       "      <td>0</td>\n",
       "      <td>0</td>\n",
       "      <td>a</td>\n",
       "      <td>1</td>\n",
       "      <td>a</td>\n",
       "      <td>c</td>\n",
       "      <td>9260.0</td>\n",
       "      <td>NaN</td>\n",
       "      <td>NaN</td>\n",
       "      <td>0</td>\n",
       "      <td>NaN</td>\n",
       "      <td>NaN</td>\n",
       "      <td>NaN</td>\n",
       "      <td>2013</td>\n",
       "      <td>1</td>\n",
       "      <td>1</td>\n",
       "      <td>1</td>\n",
       "    </tr>\n",
       "    <tr>\n",
       "      <th>1017207</th>\n",
       "      <td>1114</td>\n",
       "      <td>2</td>\n",
       "      <td>2013-01-01</td>\n",
       "      <td>0</td>\n",
       "      <td>0</td>\n",
       "      <td>0</td>\n",
       "      <td>0</td>\n",
       "      <td>a</td>\n",
       "      <td>1</td>\n",
       "      <td>a</td>\n",
       "      <td>c</td>\n",
       "      <td>870.0</td>\n",
       "      <td>NaN</td>\n",
       "      <td>NaN</td>\n",
       "      <td>0</td>\n",
       "      <td>NaN</td>\n",
       "      <td>NaN</td>\n",
       "      <td>NaN</td>\n",
       "      <td>2013</td>\n",
       "      <td>1</td>\n",
       "      <td>1</td>\n",
       "      <td>1</td>\n",
       "    </tr>\n",
       "    <tr>\n",
       "      <th>1017208</th>\n",
       "      <td>1115</td>\n",
       "      <td>2</td>\n",
       "      <td>2013-01-01</td>\n",
       "      <td>0</td>\n",
       "      <td>0</td>\n",
       "      <td>0</td>\n",
       "      <td>0</td>\n",
       "      <td>a</td>\n",
       "      <td>1</td>\n",
       "      <td>d</td>\n",
       "      <td>c</td>\n",
       "      <td>5350.0</td>\n",
       "      <td>NaN</td>\n",
       "      <td>NaN</td>\n",
       "      <td>1</td>\n",
       "      <td>22.0</td>\n",
       "      <td>2012.0</td>\n",
       "      <td>Mar,Jun,Sept,Dec</td>\n",
       "      <td>2013</td>\n",
       "      <td>1</td>\n",
       "      <td>1</td>\n",
       "      <td>1</td>\n",
       "    </tr>\n",
       "  </tbody>\n",
       "</table>\n",
       "<p>1017209 rows × 22 columns</p>\n",
       "</div>"
      ],
      "text/plain": [
       "         Store  DayOfWeek       Date  Sales  Customers  Open  Promo  \\\n",
       "0            1          5 2015-07-31   5263        555     1      1   \n",
       "1            2          5 2015-07-31   6064        625     1      1   \n",
       "2            3          5 2015-07-31   8314        821     1      1   \n",
       "3            4          5 2015-07-31  13995       1498     1      1   \n",
       "4            5          5 2015-07-31   4822        559     1      1   \n",
       "...        ...        ...        ...    ...        ...   ...    ...   \n",
       "1017204   1111          2 2013-01-01      0          0     0      0   \n",
       "1017205   1112          2 2013-01-01      0          0     0      0   \n",
       "1017206   1113          2 2013-01-01      0          0     0      0   \n",
       "1017207   1114          2 2013-01-01      0          0     0      0   \n",
       "1017208   1115          2 2013-01-01      0          0     0      0   \n",
       "\n",
       "        StateHoliday  SchoolHoliday StoreType Assortment  CompetitionDistance  \\\n",
       "0                  0              1         c          a               1270.0   \n",
       "1                  0              1         a          a                570.0   \n",
       "2                  0              1         a          a              14130.0   \n",
       "3                  0              1         c          c                620.0   \n",
       "4                  0              1         a          a              29910.0   \n",
       "...              ...            ...       ...        ...                  ...   \n",
       "1017204            a              1         a          a               1900.0   \n",
       "1017205            a              1         c          c               1880.0   \n",
       "1017206            a              1         a          c               9260.0   \n",
       "1017207            a              1         a          c                870.0   \n",
       "1017208            a              1         d          c               5350.0   \n",
       "\n",
       "         CompetitionOpenSinceMonth  CompetitionOpenSinceYear  Promo2  \\\n",
       "0                              9.0                    2008.0       0   \n",
       "1                             11.0                    2007.0       1   \n",
       "2                             12.0                    2006.0       1   \n",
       "3                              9.0                    2009.0       0   \n",
       "4                              4.0                    2015.0       0   \n",
       "...                            ...                       ...     ...   \n",
       "1017204                        6.0                    2014.0       1   \n",
       "1017205                        4.0                    2006.0       0   \n",
       "1017206                        NaN                       NaN       0   \n",
       "1017207                        NaN                       NaN       0   \n",
       "1017208                        NaN                       NaN       1   \n",
       "\n",
       "         Promo2SinceWeek  Promo2SinceYear     PromoInterval  Year  Month  Day  \\\n",
       "0                    NaN              NaN               NaN  2015      7   31   \n",
       "1                   13.0           2010.0   Jan,Apr,Jul,Oct  2015      7   31   \n",
       "2                   14.0           2011.0   Jan,Apr,Jul,Oct  2015      7   31   \n",
       "3                    NaN              NaN               NaN  2015      7   31   \n",
       "4                    NaN              NaN               NaN  2015      7   31   \n",
       "...                  ...              ...               ...   ...    ...  ...   \n",
       "1017204             31.0           2013.0   Jan,Apr,Jul,Oct  2013      1    1   \n",
       "1017205              NaN              NaN               NaN  2013      1    1   \n",
       "1017206              NaN              NaN               NaN  2013      1    1   \n",
       "1017207              NaN              NaN               NaN  2013      1    1   \n",
       "1017208             22.0           2012.0  Mar,Jun,Sept,Dec  2013      1    1   \n",
       "\n",
       "         WeekOfYear  \n",
       "0                31  \n",
       "1                31  \n",
       "2                31  \n",
       "3                31  \n",
       "4                31  \n",
       "...             ...  \n",
       "1017204           1  \n",
       "1017205           1  \n",
       "1017206           1  \n",
       "1017207           1  \n",
       "1017208           1  \n",
       "\n",
       "[1017209 rows x 22 columns]"
      ]
     },
     "execution_count": 25,
     "metadata": {},
     "output_type": "execute_result"
    }
   ],
   "source": [
    "merged_df"
   ]
  },
  {
   "cell_type": "markdown",
   "id": "accredited-behavior",
   "metadata": {},
   "source": [
    "### Store Open/Closed\n",
    "\n",
    "Next, notice that the sales are zero whenever the store is closed."
   ]
  },
  {
   "cell_type": "code",
   "execution_count": 26,
   "id": "middle-handy",
   "metadata": {},
   "outputs": [
    {
     "data": {
      "text/plain": [
       "0    172817\n",
       "Name: Sales, dtype: int64"
      ]
     },
     "execution_count": 26,
     "metadata": {},
     "output_type": "execute_result"
    }
   ],
   "source": [
    "merged_df[merged_df.Open == 0].Sales.value_counts()"
   ]
  },
  {
   "cell_type": "markdown",
   "id": "partial-mount",
   "metadata": {},
   "source": [
    "Instead of trying to model this relationship, it would be better to hard-code it in our predictions, and remove the rows where the store is closed. We won't remove any rows from the test set, since we need to make predictions for every row."
   ]
  },
  {
   "cell_type": "code",
   "execution_count": 27,
   "id": "wooden-fifteen",
   "metadata": {},
   "outputs": [],
   "source": [
    "merged_df = merged_df[merged_df.Open == 1].copy()"
   ]
  },
  {
   "cell_type": "markdown",
   "id": "cardiovascular-giving",
   "metadata": {},
   "source": [
    "### Competition\n",
    "\n",
    "Next, we can use the columns `CompetitionOpenSince[Month/Year]` columns from `store_df` to compute the number of months for which a competitor has been open near the store."
   ]
  },
  {
   "cell_type": "code",
   "execution_count": 28,
   "id": "interim-avatar",
   "metadata": {},
   "outputs": [],
   "source": [
    "def comp_months(df):\n",
    "    df['CompetitionOpen'] = 12 * (df.Year - df.CompetitionOpenSinceYear) + (df.Month - df.CompetitionOpenSinceMonth)\n",
    "    df['CompetitionOpen'] = df['CompetitionOpen'].map(lambda x: 0 if x < 0 else x).fillna(0)"
   ]
  },
  {
   "cell_type": "code",
   "execution_count": 29,
   "id": "separate-confirmation",
   "metadata": {},
   "outputs": [],
   "source": [
    "comp_months(merged_df)\n",
    "comp_months(merged_test_df)"
   ]
  },
  {
   "cell_type": "code",
   "execution_count": 30,
   "id": "numerical-concept",
   "metadata": {},
   "outputs": [
    {
     "data": {
      "text/html": [
       "<div>\n",
       "<style scoped>\n",
       "    .dataframe tbody tr th:only-of-type {\n",
       "        vertical-align: middle;\n",
       "    }\n",
       "\n",
       "    .dataframe tbody tr th {\n",
       "        vertical-align: top;\n",
       "    }\n",
       "\n",
       "    .dataframe thead th {\n",
       "        text-align: right;\n",
       "    }\n",
       "</style>\n",
       "<table border=\"1\" class=\"dataframe\">\n",
       "  <thead>\n",
       "    <tr style=\"text-align: right;\">\n",
       "      <th></th>\n",
       "      <th>Store</th>\n",
       "      <th>DayOfWeek</th>\n",
       "      <th>Date</th>\n",
       "      <th>Sales</th>\n",
       "      <th>Customers</th>\n",
       "      <th>Open</th>\n",
       "      <th>Promo</th>\n",
       "      <th>StateHoliday</th>\n",
       "      <th>SchoolHoliday</th>\n",
       "      <th>StoreType</th>\n",
       "      <th>Assortment</th>\n",
       "      <th>CompetitionDistance</th>\n",
       "      <th>CompetitionOpenSinceMonth</th>\n",
       "      <th>CompetitionOpenSinceYear</th>\n",
       "      <th>Promo2</th>\n",
       "      <th>Promo2SinceWeek</th>\n",
       "      <th>Promo2SinceYear</th>\n",
       "      <th>PromoInterval</th>\n",
       "      <th>Year</th>\n",
       "      <th>Month</th>\n",
       "      <th>Day</th>\n",
       "      <th>WeekOfYear</th>\n",
       "      <th>CompetitionOpen</th>\n",
       "    </tr>\n",
       "  </thead>\n",
       "  <tbody>\n",
       "    <tr>\n",
       "      <th>0</th>\n",
       "      <td>1</td>\n",
       "      <td>5</td>\n",
       "      <td>2015-07-31</td>\n",
       "      <td>5263</td>\n",
       "      <td>555</td>\n",
       "      <td>1</td>\n",
       "      <td>1</td>\n",
       "      <td>0</td>\n",
       "      <td>1</td>\n",
       "      <td>c</td>\n",
       "      <td>a</td>\n",
       "      <td>1270.0</td>\n",
       "      <td>9.0</td>\n",
       "      <td>2008.0</td>\n",
       "      <td>0</td>\n",
       "      <td>NaN</td>\n",
       "      <td>NaN</td>\n",
       "      <td>NaN</td>\n",
       "      <td>2015</td>\n",
       "      <td>7</td>\n",
       "      <td>31</td>\n",
       "      <td>31</td>\n",
       "      <td>82.0</td>\n",
       "    </tr>\n",
       "    <tr>\n",
       "      <th>1</th>\n",
       "      <td>2</td>\n",
       "      <td>5</td>\n",
       "      <td>2015-07-31</td>\n",
       "      <td>6064</td>\n",
       "      <td>625</td>\n",
       "      <td>1</td>\n",
       "      <td>1</td>\n",
       "      <td>0</td>\n",
       "      <td>1</td>\n",
       "      <td>a</td>\n",
       "      <td>a</td>\n",
       "      <td>570.0</td>\n",
       "      <td>11.0</td>\n",
       "      <td>2007.0</td>\n",
       "      <td>1</td>\n",
       "      <td>13.0</td>\n",
       "      <td>2010.0</td>\n",
       "      <td>Jan,Apr,Jul,Oct</td>\n",
       "      <td>2015</td>\n",
       "      <td>7</td>\n",
       "      <td>31</td>\n",
       "      <td>31</td>\n",
       "      <td>92.0</td>\n",
       "    </tr>\n",
       "    <tr>\n",
       "      <th>2</th>\n",
       "      <td>3</td>\n",
       "      <td>5</td>\n",
       "      <td>2015-07-31</td>\n",
       "      <td>8314</td>\n",
       "      <td>821</td>\n",
       "      <td>1</td>\n",
       "      <td>1</td>\n",
       "      <td>0</td>\n",
       "      <td>1</td>\n",
       "      <td>a</td>\n",
       "      <td>a</td>\n",
       "      <td>14130.0</td>\n",
       "      <td>12.0</td>\n",
       "      <td>2006.0</td>\n",
       "      <td>1</td>\n",
       "      <td>14.0</td>\n",
       "      <td>2011.0</td>\n",
       "      <td>Jan,Apr,Jul,Oct</td>\n",
       "      <td>2015</td>\n",
       "      <td>7</td>\n",
       "      <td>31</td>\n",
       "      <td>31</td>\n",
       "      <td>103.0</td>\n",
       "    </tr>\n",
       "    <tr>\n",
       "      <th>3</th>\n",
       "      <td>4</td>\n",
       "      <td>5</td>\n",
       "      <td>2015-07-31</td>\n",
       "      <td>13995</td>\n",
       "      <td>1498</td>\n",
       "      <td>1</td>\n",
       "      <td>1</td>\n",
       "      <td>0</td>\n",
       "      <td>1</td>\n",
       "      <td>c</td>\n",
       "      <td>c</td>\n",
       "      <td>620.0</td>\n",
       "      <td>9.0</td>\n",
       "      <td>2009.0</td>\n",
       "      <td>0</td>\n",
       "      <td>NaN</td>\n",
       "      <td>NaN</td>\n",
       "      <td>NaN</td>\n",
       "      <td>2015</td>\n",
       "      <td>7</td>\n",
       "      <td>31</td>\n",
       "      <td>31</td>\n",
       "      <td>70.0</td>\n",
       "    </tr>\n",
       "    <tr>\n",
       "      <th>4</th>\n",
       "      <td>5</td>\n",
       "      <td>5</td>\n",
       "      <td>2015-07-31</td>\n",
       "      <td>4822</td>\n",
       "      <td>559</td>\n",
       "      <td>1</td>\n",
       "      <td>1</td>\n",
       "      <td>0</td>\n",
       "      <td>1</td>\n",
       "      <td>a</td>\n",
       "      <td>a</td>\n",
       "      <td>29910.0</td>\n",
       "      <td>4.0</td>\n",
       "      <td>2015.0</td>\n",
       "      <td>0</td>\n",
       "      <td>NaN</td>\n",
       "      <td>NaN</td>\n",
       "      <td>NaN</td>\n",
       "      <td>2015</td>\n",
       "      <td>7</td>\n",
       "      <td>31</td>\n",
       "      <td>31</td>\n",
       "      <td>3.0</td>\n",
       "    </tr>\n",
       "    <tr>\n",
       "      <th>...</th>\n",
       "      <td>...</td>\n",
       "      <td>...</td>\n",
       "      <td>...</td>\n",
       "      <td>...</td>\n",
       "      <td>...</td>\n",
       "      <td>...</td>\n",
       "      <td>...</td>\n",
       "      <td>...</td>\n",
       "      <td>...</td>\n",
       "      <td>...</td>\n",
       "      <td>...</td>\n",
       "      <td>...</td>\n",
       "      <td>...</td>\n",
       "      <td>...</td>\n",
       "      <td>...</td>\n",
       "      <td>...</td>\n",
       "      <td>...</td>\n",
       "      <td>...</td>\n",
       "      <td>...</td>\n",
       "      <td>...</td>\n",
       "      <td>...</td>\n",
       "      <td>...</td>\n",
       "      <td>...</td>\n",
       "    </tr>\n",
       "    <tr>\n",
       "      <th>1016776</th>\n",
       "      <td>682</td>\n",
       "      <td>2</td>\n",
       "      <td>2013-01-01</td>\n",
       "      <td>3375</td>\n",
       "      <td>566</td>\n",
       "      <td>1</td>\n",
       "      <td>0</td>\n",
       "      <td>a</td>\n",
       "      <td>1</td>\n",
       "      <td>b</td>\n",
       "      <td>a</td>\n",
       "      <td>150.0</td>\n",
       "      <td>9.0</td>\n",
       "      <td>2006.0</td>\n",
       "      <td>0</td>\n",
       "      <td>NaN</td>\n",
       "      <td>NaN</td>\n",
       "      <td>NaN</td>\n",
       "      <td>2013</td>\n",
       "      <td>1</td>\n",
       "      <td>1</td>\n",
       "      <td>1</td>\n",
       "      <td>76.0</td>\n",
       "    </tr>\n",
       "    <tr>\n",
       "      <th>1016827</th>\n",
       "      <td>733</td>\n",
       "      <td>2</td>\n",
       "      <td>2013-01-01</td>\n",
       "      <td>10765</td>\n",
       "      <td>2377</td>\n",
       "      <td>1</td>\n",
       "      <td>0</td>\n",
       "      <td>a</td>\n",
       "      <td>1</td>\n",
       "      <td>b</td>\n",
       "      <td>b</td>\n",
       "      <td>860.0</td>\n",
       "      <td>10.0</td>\n",
       "      <td>1999.0</td>\n",
       "      <td>0</td>\n",
       "      <td>NaN</td>\n",
       "      <td>NaN</td>\n",
       "      <td>NaN</td>\n",
       "      <td>2013</td>\n",
       "      <td>1</td>\n",
       "      <td>1</td>\n",
       "      <td>1</td>\n",
       "      <td>159.0</td>\n",
       "    </tr>\n",
       "    <tr>\n",
       "      <th>1016863</th>\n",
       "      <td>769</td>\n",
       "      <td>2</td>\n",
       "      <td>2013-01-01</td>\n",
       "      <td>5035</td>\n",
       "      <td>1248</td>\n",
       "      <td>1</td>\n",
       "      <td>0</td>\n",
       "      <td>a</td>\n",
       "      <td>1</td>\n",
       "      <td>b</td>\n",
       "      <td>b</td>\n",
       "      <td>840.0</td>\n",
       "      <td>NaN</td>\n",
       "      <td>NaN</td>\n",
       "      <td>1</td>\n",
       "      <td>48.0</td>\n",
       "      <td>2012.0</td>\n",
       "      <td>Jan,Apr,Jul,Oct</td>\n",
       "      <td>2013</td>\n",
       "      <td>1</td>\n",
       "      <td>1</td>\n",
       "      <td>1</td>\n",
       "      <td>0.0</td>\n",
       "    </tr>\n",
       "    <tr>\n",
       "      <th>1017042</th>\n",
       "      <td>948</td>\n",
       "      <td>2</td>\n",
       "      <td>2013-01-01</td>\n",
       "      <td>4491</td>\n",
       "      <td>1039</td>\n",
       "      <td>1</td>\n",
       "      <td>0</td>\n",
       "      <td>a</td>\n",
       "      <td>1</td>\n",
       "      <td>b</td>\n",
       "      <td>b</td>\n",
       "      <td>1430.0</td>\n",
       "      <td>NaN</td>\n",
       "      <td>NaN</td>\n",
       "      <td>0</td>\n",
       "      <td>NaN</td>\n",
       "      <td>NaN</td>\n",
       "      <td>NaN</td>\n",
       "      <td>2013</td>\n",
       "      <td>1</td>\n",
       "      <td>1</td>\n",
       "      <td>1</td>\n",
       "      <td>0.0</td>\n",
       "    </tr>\n",
       "    <tr>\n",
       "      <th>1017190</th>\n",
       "      <td>1097</td>\n",
       "      <td>2</td>\n",
       "      <td>2013-01-01</td>\n",
       "      <td>5961</td>\n",
       "      <td>1405</td>\n",
       "      <td>1</td>\n",
       "      <td>0</td>\n",
       "      <td>a</td>\n",
       "      <td>1</td>\n",
       "      <td>b</td>\n",
       "      <td>b</td>\n",
       "      <td>720.0</td>\n",
       "      <td>3.0</td>\n",
       "      <td>2002.0</td>\n",
       "      <td>0</td>\n",
       "      <td>NaN</td>\n",
       "      <td>NaN</td>\n",
       "      <td>NaN</td>\n",
       "      <td>2013</td>\n",
       "      <td>1</td>\n",
       "      <td>1</td>\n",
       "      <td>1</td>\n",
       "      <td>130.0</td>\n",
       "    </tr>\n",
       "  </tbody>\n",
       "</table>\n",
       "<p>844392 rows × 23 columns</p>\n",
       "</div>"
      ],
      "text/plain": [
       "         Store  DayOfWeek       Date  Sales  Customers  Open  Promo  \\\n",
       "0            1          5 2015-07-31   5263        555     1      1   \n",
       "1            2          5 2015-07-31   6064        625     1      1   \n",
       "2            3          5 2015-07-31   8314        821     1      1   \n",
       "3            4          5 2015-07-31  13995       1498     1      1   \n",
       "4            5          5 2015-07-31   4822        559     1      1   \n",
       "...        ...        ...        ...    ...        ...   ...    ...   \n",
       "1016776    682          2 2013-01-01   3375        566     1      0   \n",
       "1016827    733          2 2013-01-01  10765       2377     1      0   \n",
       "1016863    769          2 2013-01-01   5035       1248     1      0   \n",
       "1017042    948          2 2013-01-01   4491       1039     1      0   \n",
       "1017190   1097          2 2013-01-01   5961       1405     1      0   \n",
       "\n",
       "        StateHoliday  SchoolHoliday StoreType Assortment  CompetitionDistance  \\\n",
       "0                  0              1         c          a               1270.0   \n",
       "1                  0              1         a          a                570.0   \n",
       "2                  0              1         a          a              14130.0   \n",
       "3                  0              1         c          c                620.0   \n",
       "4                  0              1         a          a              29910.0   \n",
       "...              ...            ...       ...        ...                  ...   \n",
       "1016776            a              1         b          a                150.0   \n",
       "1016827            a              1         b          b                860.0   \n",
       "1016863            a              1         b          b                840.0   \n",
       "1017042            a              1         b          b               1430.0   \n",
       "1017190            a              1         b          b                720.0   \n",
       "\n",
       "         CompetitionOpenSinceMonth  CompetitionOpenSinceYear  Promo2  \\\n",
       "0                              9.0                    2008.0       0   \n",
       "1                             11.0                    2007.0       1   \n",
       "2                             12.0                    2006.0       1   \n",
       "3                              9.0                    2009.0       0   \n",
       "4                              4.0                    2015.0       0   \n",
       "...                            ...                       ...     ...   \n",
       "1016776                        9.0                    2006.0       0   \n",
       "1016827                       10.0                    1999.0       0   \n",
       "1016863                        NaN                       NaN       1   \n",
       "1017042                        NaN                       NaN       0   \n",
       "1017190                        3.0                    2002.0       0   \n",
       "\n",
       "         Promo2SinceWeek  Promo2SinceYear    PromoInterval  Year  Month  Day  \\\n",
       "0                    NaN              NaN              NaN  2015      7   31   \n",
       "1                   13.0           2010.0  Jan,Apr,Jul,Oct  2015      7   31   \n",
       "2                   14.0           2011.0  Jan,Apr,Jul,Oct  2015      7   31   \n",
       "3                    NaN              NaN              NaN  2015      7   31   \n",
       "4                    NaN              NaN              NaN  2015      7   31   \n",
       "...                  ...              ...              ...   ...    ...  ...   \n",
       "1016776              NaN              NaN              NaN  2013      1    1   \n",
       "1016827              NaN              NaN              NaN  2013      1    1   \n",
       "1016863             48.0           2012.0  Jan,Apr,Jul,Oct  2013      1    1   \n",
       "1017042              NaN              NaN              NaN  2013      1    1   \n",
       "1017190              NaN              NaN              NaN  2013      1    1   \n",
       "\n",
       "         WeekOfYear  CompetitionOpen  \n",
       "0                31             82.0  \n",
       "1                31             92.0  \n",
       "2                31            103.0  \n",
       "3                31             70.0  \n",
       "4                31              3.0  \n",
       "...             ...              ...  \n",
       "1016776           1             76.0  \n",
       "1016827           1            159.0  \n",
       "1016863           1              0.0  \n",
       "1017042           1              0.0  \n",
       "1017190           1            130.0  \n",
       "\n",
       "[844392 rows x 23 columns]"
      ]
     },
     "execution_count": 30,
     "metadata": {},
     "output_type": "execute_result"
    }
   ],
   "source": [
    "merged_df"
   ]
  },
  {
   "cell_type": "markdown",
   "id": "supposed-nutrition",
   "metadata": {},
   "source": [
    "Let's view the results of the new columns we've created."
   ]
  },
  {
   "cell_type": "code",
   "execution_count": 31,
   "id": "single-wesley",
   "metadata": {},
   "outputs": [
    {
     "data": {
      "text/html": [
       "<div>\n",
       "<style scoped>\n",
       "    .dataframe tbody tr th:only-of-type {\n",
       "        vertical-align: middle;\n",
       "    }\n",
       "\n",
       "    .dataframe tbody tr th {\n",
       "        vertical-align: top;\n",
       "    }\n",
       "\n",
       "    .dataframe thead th {\n",
       "        text-align: right;\n",
       "    }\n",
       "</style>\n",
       "<table border=\"1\" class=\"dataframe\">\n",
       "  <thead>\n",
       "    <tr style=\"text-align: right;\">\n",
       "      <th></th>\n",
       "      <th>Date</th>\n",
       "      <th>CompetitionDistance</th>\n",
       "      <th>CompetitionOpenSinceYear</th>\n",
       "      <th>CompetitionOpenSinceMonth</th>\n",
       "      <th>CompetitionOpen</th>\n",
       "    </tr>\n",
       "  </thead>\n",
       "  <tbody>\n",
       "    <tr>\n",
       "      <th>999443</th>\n",
       "      <td>2013-01-16</td>\n",
       "      <td>330.0</td>\n",
       "      <td>NaN</td>\n",
       "      <td>NaN</td>\n",
       "      <td>0.0</td>\n",
       "    </tr>\n",
       "    <tr>\n",
       "      <th>326474</th>\n",
       "      <td>2014-09-26</td>\n",
       "      <td>130.0</td>\n",
       "      <td>NaN</td>\n",
       "      <td>NaN</td>\n",
       "      <td>0.0</td>\n",
       "    </tr>\n",
       "    <tr>\n",
       "      <th>428675</th>\n",
       "      <td>2014-06-12</td>\n",
       "      <td>290.0</td>\n",
       "      <td>2011.0</td>\n",
       "      <td>10.0</td>\n",
       "      <td>32.0</td>\n",
       "    </tr>\n",
       "    <tr>\n",
       "      <th>259825</th>\n",
       "      <td>2014-12-06</td>\n",
       "      <td>11810.0</td>\n",
       "      <td>2014.0</td>\n",
       "      <td>8.0</td>\n",
       "      <td>4.0</td>\n",
       "    </tr>\n",
       "    <tr>\n",
       "      <th>529481</th>\n",
       "      <td>2014-03-14</td>\n",
       "      <td>530.0</td>\n",
       "      <td>2005.0</td>\n",
       "      <td>4.0</td>\n",
       "      <td>107.0</td>\n",
       "    </tr>\n",
       "    <tr>\n",
       "      <th>407907</th>\n",
       "      <td>2014-07-01</td>\n",
       "      <td>820.0</td>\n",
       "      <td>NaN</td>\n",
       "      <td>NaN</td>\n",
       "      <td>0.0</td>\n",
       "    </tr>\n",
       "    <tr>\n",
       "      <th>638580</th>\n",
       "      <td>2013-12-06</td>\n",
       "      <td>5300.0</td>\n",
       "      <td>NaN</td>\n",
       "      <td>NaN</td>\n",
       "      <td>0.0</td>\n",
       "    </tr>\n",
       "    <tr>\n",
       "      <th>204511</th>\n",
       "      <td>2015-01-29</td>\n",
       "      <td>20390.0</td>\n",
       "      <td>2008.0</td>\n",
       "      <td>4.0</td>\n",
       "      <td>81.0</td>\n",
       "    </tr>\n",
       "    <tr>\n",
       "      <th>781571</th>\n",
       "      <td>2013-07-31</td>\n",
       "      <td>4380.0</td>\n",
       "      <td>NaN</td>\n",
       "      <td>NaN</td>\n",
       "      <td>0.0</td>\n",
       "    </tr>\n",
       "    <tr>\n",
       "      <th>875668</th>\n",
       "      <td>2013-05-07</td>\n",
       "      <td>22560.0</td>\n",
       "      <td>NaN</td>\n",
       "      <td>NaN</td>\n",
       "      <td>0.0</td>\n",
       "    </tr>\n",
       "    <tr>\n",
       "      <th>197652</th>\n",
       "      <td>2015-02-04</td>\n",
       "      <td>19840.0</td>\n",
       "      <td>2009.0</td>\n",
       "      <td>7.0</td>\n",
       "      <td>67.0</td>\n",
       "    </tr>\n",
       "    <tr>\n",
       "      <th>927322</th>\n",
       "      <td>2013-03-22</td>\n",
       "      <td>2960.0</td>\n",
       "      <td>2014.0</td>\n",
       "      <td>12.0</td>\n",
       "      <td>0.0</td>\n",
       "    </tr>\n",
       "    <tr>\n",
       "      <th>1005949</th>\n",
       "      <td>2013-01-11</td>\n",
       "      <td>6480.0</td>\n",
       "      <td>NaN</td>\n",
       "      <td>NaN</td>\n",
       "      <td>0.0</td>\n",
       "    </tr>\n",
       "    <tr>\n",
       "      <th>442034</th>\n",
       "      <td>2014-05-31</td>\n",
       "      <td>3720.0</td>\n",
       "      <td>2005.0</td>\n",
       "      <td>4.0</td>\n",
       "      <td>109.0</td>\n",
       "    </tr>\n",
       "    <tr>\n",
       "      <th>676239</th>\n",
       "      <td>2013-11-02</td>\n",
       "      <td>1000.0</td>\n",
       "      <td>2008.0</td>\n",
       "      <td>9.0</td>\n",
       "      <td>62.0</td>\n",
       "    </tr>\n",
       "    <tr>\n",
       "      <th>696174</th>\n",
       "      <td>2013-10-15</td>\n",
       "      <td>1870.0</td>\n",
       "      <td>2011.0</td>\n",
       "      <td>10.0</td>\n",
       "      <td>24.0</td>\n",
       "    </tr>\n",
       "    <tr>\n",
       "      <th>224082</th>\n",
       "      <td>2015-01-12</td>\n",
       "      <td>11540.0</td>\n",
       "      <td>NaN</td>\n",
       "      <td>NaN</td>\n",
       "      <td>0.0</td>\n",
       "    </tr>\n",
       "    <tr>\n",
       "      <th>625374</th>\n",
       "      <td>2013-12-18</td>\n",
       "      <td>90.0</td>\n",
       "      <td>NaN</td>\n",
       "      <td>NaN</td>\n",
       "      <td>0.0</td>\n",
       "    </tr>\n",
       "    <tr>\n",
       "      <th>447559</th>\n",
       "      <td>2014-05-26</td>\n",
       "      <td>5740.0</td>\n",
       "      <td>2007.0</td>\n",
       "      <td>4.0</td>\n",
       "      <td>85.0</td>\n",
       "    </tr>\n",
       "    <tr>\n",
       "      <th>653728</th>\n",
       "      <td>2013-11-22</td>\n",
       "      <td>2030.0</td>\n",
       "      <td>2000.0</td>\n",
       "      <td>8.0</td>\n",
       "      <td>159.0</td>\n",
       "    </tr>\n",
       "  </tbody>\n",
       "</table>\n",
       "</div>"
      ],
      "text/plain": [
       "              Date  CompetitionDistance  CompetitionOpenSinceYear  \\\n",
       "999443  2013-01-16                330.0                       NaN   \n",
       "326474  2014-09-26                130.0                       NaN   \n",
       "428675  2014-06-12                290.0                    2011.0   \n",
       "259825  2014-12-06              11810.0                    2014.0   \n",
       "529481  2014-03-14                530.0                    2005.0   \n",
       "407907  2014-07-01                820.0                       NaN   \n",
       "638580  2013-12-06               5300.0                       NaN   \n",
       "204511  2015-01-29              20390.0                    2008.0   \n",
       "781571  2013-07-31               4380.0                       NaN   \n",
       "875668  2013-05-07              22560.0                       NaN   \n",
       "197652  2015-02-04              19840.0                    2009.0   \n",
       "927322  2013-03-22               2960.0                    2014.0   \n",
       "1005949 2013-01-11               6480.0                       NaN   \n",
       "442034  2014-05-31               3720.0                    2005.0   \n",
       "676239  2013-11-02               1000.0                    2008.0   \n",
       "696174  2013-10-15               1870.0                    2011.0   \n",
       "224082  2015-01-12              11540.0                       NaN   \n",
       "625374  2013-12-18                 90.0                       NaN   \n",
       "447559  2014-05-26               5740.0                    2007.0   \n",
       "653728  2013-11-22               2030.0                    2000.0   \n",
       "\n",
       "         CompetitionOpenSinceMonth  CompetitionOpen  \n",
       "999443                         NaN              0.0  \n",
       "326474                         NaN              0.0  \n",
       "428675                        10.0             32.0  \n",
       "259825                         8.0              4.0  \n",
       "529481                         4.0            107.0  \n",
       "407907                         NaN              0.0  \n",
       "638580                         NaN              0.0  \n",
       "204511                         4.0             81.0  \n",
       "781571                         NaN              0.0  \n",
       "875668                         NaN              0.0  \n",
       "197652                         7.0             67.0  \n",
       "927322                        12.0              0.0  \n",
       "1005949                        NaN              0.0  \n",
       "442034                         4.0            109.0  \n",
       "676239                         9.0             62.0  \n",
       "696174                        10.0             24.0  \n",
       "224082                         NaN              0.0  \n",
       "625374                         NaN              0.0  \n",
       "447559                         4.0             85.0  \n",
       "653728                         8.0            159.0  "
      ]
     },
     "execution_count": 31,
     "metadata": {},
     "output_type": "execute_result"
    }
   ],
   "source": [
    "merged_df[['Date', 'CompetitionDistance', 'CompetitionOpenSinceYear', 'CompetitionOpenSinceMonth', 'CompetitionOpen']].sample(20)"
   ]
  },
  {
   "cell_type": "markdown",
   "id": "egyptian-fireplace",
   "metadata": {},
   "source": [
    "### Additional Promotion\n",
    "\n",
    "We can also add some additional columns to indicate how long a store has been running `Promo2` and whether a new round of `Promo2` starts in the current month."
   ]
  },
  {
   "cell_type": "code",
   "execution_count": 32,
   "id": "occasional-employee",
   "metadata": {},
   "outputs": [],
   "source": [
    "def check_promo_month(row):\n",
    "    month2str = {1:'Jan', 2:'Feb', 3:'Mar', 4:'Apr', 5:'May', 6:'Jun',              \n",
    "                 7:'Jul', 8:'Aug', 9:'Sept', 10:'Oct', 11:'Nov', 12:'Dec'}\n",
    "    try:\n",
    "        months = (row['PromoInterval'] or '').split(',')\n",
    "        if row['Promo2Open'] and month2str[row['Month']] in months:\n",
    "            return 1\n",
    "        else:\n",
    "            return 0\n",
    "    except Exception:\n",
    "        return 0\n",
    "\n",
    "def promo_cols(df):\n",
    "    # Months since Promo2 was open\n",
    "    df['Promo2Open'] = 12 * (df.Year - df.Promo2SinceYear) +  (df.WeekOfYear - df.Promo2SinceWeek)*7/30.5\n",
    "    df['Promo2Open'] = df['Promo2Open'].map(lambda x: 0 if x < 0 else x).fillna(0) * df['Promo2']\n",
    "    # Whether a new round of promotions was started in the current month\n",
    "    df['IsPromo2Month'] = df.apply(check_promo_month, axis=1) * df['Promo2']"
   ]
  },
  {
   "cell_type": "code",
   "execution_count": 33,
   "id": "orange-beijing",
   "metadata": {},
   "outputs": [],
   "source": [
    "promo_cols(merged_df)\n",
    "promo_cols(merged_test_df)"
   ]
  },
  {
   "cell_type": "markdown",
   "id": "forced-surfing",
   "metadata": {},
   "source": [
    "Let's view the results of the columns we've created."
   ]
  },
  {
   "cell_type": "code",
   "execution_count": 34,
   "id": "looking-october",
   "metadata": {},
   "outputs": [
    {
     "data": {
      "text/html": [
       "<div>\n",
       "<style scoped>\n",
       "    .dataframe tbody tr th:only-of-type {\n",
       "        vertical-align: middle;\n",
       "    }\n",
       "\n",
       "    .dataframe tbody tr th {\n",
       "        vertical-align: top;\n",
       "    }\n",
       "\n",
       "    .dataframe thead th {\n",
       "        text-align: right;\n",
       "    }\n",
       "</style>\n",
       "<table border=\"1\" class=\"dataframe\">\n",
       "  <thead>\n",
       "    <tr style=\"text-align: right;\">\n",
       "      <th></th>\n",
       "      <th>Date</th>\n",
       "      <th>Promo2</th>\n",
       "      <th>Promo2SinceYear</th>\n",
       "      <th>Promo2SinceWeek</th>\n",
       "      <th>PromoInterval</th>\n",
       "      <th>Promo2Open</th>\n",
       "      <th>IsPromo2Month</th>\n",
       "    </tr>\n",
       "  </thead>\n",
       "  <tbody>\n",
       "    <tr>\n",
       "      <th>656146</th>\n",
       "      <td>2013-11-20</td>\n",
       "      <td>0</td>\n",
       "      <td>NaN</td>\n",
       "      <td>NaN</td>\n",
       "      <td>NaN</td>\n",
       "      <td>0.000000</td>\n",
       "      <td>0</td>\n",
       "    </tr>\n",
       "    <tr>\n",
       "      <th>772783</th>\n",
       "      <td>2013-08-08</td>\n",
       "      <td>0</td>\n",
       "      <td>NaN</td>\n",
       "      <td>NaN</td>\n",
       "      <td>NaN</td>\n",
       "      <td>0.000000</td>\n",
       "      <td>0</td>\n",
       "    </tr>\n",
       "    <tr>\n",
       "      <th>649002</th>\n",
       "      <td>2013-11-27</td>\n",
       "      <td>1</td>\n",
       "      <td>2014.0</td>\n",
       "      <td>40.0</td>\n",
       "      <td>Jan,Apr,Jul,Oct</td>\n",
       "      <td>0.000000</td>\n",
       "      <td>0</td>\n",
       "    </tr>\n",
       "    <tr>\n",
       "      <th>340023</th>\n",
       "      <td>2014-09-12</td>\n",
       "      <td>1</td>\n",
       "      <td>2011.0</td>\n",
       "      <td>40.0</td>\n",
       "      <td>Jan,Apr,Jul,Oct</td>\n",
       "      <td>35.311475</td>\n",
       "      <td>0</td>\n",
       "    </tr>\n",
       "    <tr>\n",
       "      <th>483808</th>\n",
       "      <td>2014-04-24</td>\n",
       "      <td>1</td>\n",
       "      <td>2012.0</td>\n",
       "      <td>22.0</td>\n",
       "      <td>Jan,Apr,Jul,Oct</td>\n",
       "      <td>22.852459</td>\n",
       "      <td>1</td>\n",
       "    </tr>\n",
       "    <tr>\n",
       "      <th>462661</th>\n",
       "      <td>2014-05-13</td>\n",
       "      <td>0</td>\n",
       "      <td>NaN</td>\n",
       "      <td>NaN</td>\n",
       "      <td>NaN</td>\n",
       "      <td>0.000000</td>\n",
       "      <td>0</td>\n",
       "    </tr>\n",
       "    <tr>\n",
       "      <th>994519</th>\n",
       "      <td>2013-01-21</td>\n",
       "      <td>0</td>\n",
       "      <td>NaN</td>\n",
       "      <td>NaN</td>\n",
       "      <td>NaN</td>\n",
       "      <td>0.000000</td>\n",
       "      <td>0</td>\n",
       "    </tr>\n",
       "    <tr>\n",
       "      <th>1001460</th>\n",
       "      <td>2013-01-15</td>\n",
       "      <td>0</td>\n",
       "      <td>NaN</td>\n",
       "      <td>NaN</td>\n",
       "      <td>NaN</td>\n",
       "      <td>0.000000</td>\n",
       "      <td>0</td>\n",
       "    </tr>\n",
       "    <tr>\n",
       "      <th>670523</th>\n",
       "      <td>2013-11-07</td>\n",
       "      <td>0</td>\n",
       "      <td>NaN</td>\n",
       "      <td>NaN</td>\n",
       "      <td>NaN</td>\n",
       "      <td>0.000000</td>\n",
       "      <td>0</td>\n",
       "    </tr>\n",
       "    <tr>\n",
       "      <th>663743</th>\n",
       "      <td>2013-11-14</td>\n",
       "      <td>1</td>\n",
       "      <td>2011.0</td>\n",
       "      <td>14.0</td>\n",
       "      <td>Jan,Apr,Jul,Oct</td>\n",
       "      <td>31.344262</td>\n",
       "      <td>0</td>\n",
       "    </tr>\n",
       "    <tr>\n",
       "      <th>936787</th>\n",
       "      <td>2013-03-14</td>\n",
       "      <td>1</td>\n",
       "      <td>2012.0</td>\n",
       "      <td>28.0</td>\n",
       "      <td>Jan,Apr,Jul,Oct</td>\n",
       "      <td>8.098361</td>\n",
       "      <td>0</td>\n",
       "    </tr>\n",
       "    <tr>\n",
       "      <th>42602</th>\n",
       "      <td>2015-06-23</td>\n",
       "      <td>0</td>\n",
       "      <td>NaN</td>\n",
       "      <td>NaN</td>\n",
       "      <td>NaN</td>\n",
       "      <td>0.000000</td>\n",
       "      <td>0</td>\n",
       "    </tr>\n",
       "    <tr>\n",
       "      <th>613702</th>\n",
       "      <td>2013-12-28</td>\n",
       "      <td>0</td>\n",
       "      <td>NaN</td>\n",
       "      <td>NaN</td>\n",
       "      <td>NaN</td>\n",
       "      <td>0.000000</td>\n",
       "      <td>0</td>\n",
       "    </tr>\n",
       "    <tr>\n",
       "      <th>117937</th>\n",
       "      <td>2015-04-17</td>\n",
       "      <td>0</td>\n",
       "      <td>NaN</td>\n",
       "      <td>NaN</td>\n",
       "      <td>NaN</td>\n",
       "      <td>0.000000</td>\n",
       "      <td>0</td>\n",
       "    </tr>\n",
       "    <tr>\n",
       "      <th>755812</th>\n",
       "      <td>2013-08-23</td>\n",
       "      <td>0</td>\n",
       "      <td>NaN</td>\n",
       "      <td>NaN</td>\n",
       "      <td>NaN</td>\n",
       "      <td>0.000000</td>\n",
       "      <td>0</td>\n",
       "    </tr>\n",
       "    <tr>\n",
       "      <th>673142</th>\n",
       "      <td>2013-11-05</td>\n",
       "      <td>0</td>\n",
       "      <td>NaN</td>\n",
       "      <td>NaN</td>\n",
       "      <td>NaN</td>\n",
       "      <td>0.000000</td>\n",
       "      <td>0</td>\n",
       "    </tr>\n",
       "    <tr>\n",
       "      <th>727301</th>\n",
       "      <td>2013-09-18</td>\n",
       "      <td>1</td>\n",
       "      <td>2010.0</td>\n",
       "      <td>13.0</td>\n",
       "      <td>Jan,Apr,Jul,Oct</td>\n",
       "      <td>41.737705</td>\n",
       "      <td>0</td>\n",
       "    </tr>\n",
       "    <tr>\n",
       "      <th>146060</th>\n",
       "      <td>2015-03-23</td>\n",
       "      <td>1</td>\n",
       "      <td>2013.0</td>\n",
       "      <td>31.0</td>\n",
       "      <td>Jan,Apr,Jul,Oct</td>\n",
       "      <td>19.868852</td>\n",
       "      <td>0</td>\n",
       "    </tr>\n",
       "    <tr>\n",
       "      <th>881599</th>\n",
       "      <td>2013-05-02</td>\n",
       "      <td>1</td>\n",
       "      <td>2012.0</td>\n",
       "      <td>27.0</td>\n",
       "      <td>Jan,Apr,Jul,Oct</td>\n",
       "      <td>9.934426</td>\n",
       "      <td>0</td>\n",
       "    </tr>\n",
       "    <tr>\n",
       "      <th>341417</th>\n",
       "      <td>2014-09-10</td>\n",
       "      <td>0</td>\n",
       "      <td>NaN</td>\n",
       "      <td>NaN</td>\n",
       "      <td>NaN</td>\n",
       "      <td>0.000000</td>\n",
       "      <td>0</td>\n",
       "    </tr>\n",
       "  </tbody>\n",
       "</table>\n",
       "</div>"
      ],
      "text/plain": [
       "              Date  Promo2  Promo2SinceYear  Promo2SinceWeek    PromoInterval  \\\n",
       "656146  2013-11-20       0              NaN              NaN              NaN   \n",
       "772783  2013-08-08       0              NaN              NaN              NaN   \n",
       "649002  2013-11-27       1           2014.0             40.0  Jan,Apr,Jul,Oct   \n",
       "340023  2014-09-12       1           2011.0             40.0  Jan,Apr,Jul,Oct   \n",
       "483808  2014-04-24       1           2012.0             22.0  Jan,Apr,Jul,Oct   \n",
       "462661  2014-05-13       0              NaN              NaN              NaN   \n",
       "994519  2013-01-21       0              NaN              NaN              NaN   \n",
       "1001460 2013-01-15       0              NaN              NaN              NaN   \n",
       "670523  2013-11-07       0              NaN              NaN              NaN   \n",
       "663743  2013-11-14       1           2011.0             14.0  Jan,Apr,Jul,Oct   \n",
       "936787  2013-03-14       1           2012.0             28.0  Jan,Apr,Jul,Oct   \n",
       "42602   2015-06-23       0              NaN              NaN              NaN   \n",
       "613702  2013-12-28       0              NaN              NaN              NaN   \n",
       "117937  2015-04-17       0              NaN              NaN              NaN   \n",
       "755812  2013-08-23       0              NaN              NaN              NaN   \n",
       "673142  2013-11-05       0              NaN              NaN              NaN   \n",
       "727301  2013-09-18       1           2010.0             13.0  Jan,Apr,Jul,Oct   \n",
       "146060  2015-03-23       1           2013.0             31.0  Jan,Apr,Jul,Oct   \n",
       "881599  2013-05-02       1           2012.0             27.0  Jan,Apr,Jul,Oct   \n",
       "341417  2014-09-10       0              NaN              NaN              NaN   \n",
       "\n",
       "         Promo2Open  IsPromo2Month  \n",
       "656146     0.000000              0  \n",
       "772783     0.000000              0  \n",
       "649002     0.000000              0  \n",
       "340023    35.311475              0  \n",
       "483808    22.852459              1  \n",
       "462661     0.000000              0  \n",
       "994519     0.000000              0  \n",
       "1001460    0.000000              0  \n",
       "670523     0.000000              0  \n",
       "663743    31.344262              0  \n",
       "936787     8.098361              0  \n",
       "42602      0.000000              0  \n",
       "613702     0.000000              0  \n",
       "117937     0.000000              0  \n",
       "755812     0.000000              0  \n",
       "673142     0.000000              0  \n",
       "727301    41.737705              0  \n",
       "146060    19.868852              0  \n",
       "881599     9.934426              0  \n",
       "341417     0.000000              0  "
      ]
     },
     "execution_count": 34,
     "metadata": {},
     "output_type": "execute_result"
    }
   ],
   "source": [
    "merged_df[['Date', 'Promo2', 'Promo2SinceYear', 'Promo2SinceWeek', 'PromoInterval', 'Promo2Open', 'IsPromo2Month']].sample(20)"
   ]
  },
  {
   "cell_type": "markdown",
   "id": "serial-politics",
   "metadata": {},
   "source": [
    "The features related to competition and promotion are now much more useful."
   ]
  },
  {
   "cell_type": "markdown",
   "id": "furnished-property",
   "metadata": {},
   "source": [
    "### Input and Target Columns\n",
    "\n",
    "Let's select the columns that we'll use for training."
   ]
  },
  {
   "cell_type": "code",
   "execution_count": 35,
   "id": "continent-mountain",
   "metadata": {},
   "outputs": [
    {
     "data": {
      "text/plain": [
       "Index(['Store', 'DayOfWeek', 'Date', 'Sales', 'Customers', 'Open', 'Promo',\n",
       "       'StateHoliday', 'SchoolHoliday', 'StoreType', 'Assortment',\n",
       "       'CompetitionDistance', 'CompetitionOpenSinceMonth',\n",
       "       'CompetitionOpenSinceYear', 'Promo2', 'Promo2SinceWeek',\n",
       "       'Promo2SinceYear', 'PromoInterval', 'Year', 'Month', 'Day',\n",
       "       'WeekOfYear', 'CompetitionOpen', 'Promo2Open', 'IsPromo2Month'],\n",
       "      dtype='object')"
      ]
     },
     "execution_count": 35,
     "metadata": {},
     "output_type": "execute_result"
    }
   ],
   "source": [
    "merged_df.columns"
   ]
  },
  {
   "cell_type": "code",
   "execution_count": 36,
   "id": "miniature-ottawa",
   "metadata": {},
   "outputs": [],
   "source": [
    "input_cols = ['Store', 'DayOfWeek', 'Promo', 'StateHoliday', 'SchoolHoliday', \n",
    "              'StoreType', 'Assortment', 'CompetitionDistance', 'CompetitionOpen', \n",
    "              'Day', 'Month', 'Year', 'WeekOfYear',  'Promo2', \n",
    "              'Promo2Open', 'IsPromo2Month']\n",
    "target_col = 'Sales'"
   ]
  },
  {
   "cell_type": "code",
   "execution_count": 37,
   "id": "available-observation",
   "metadata": {},
   "outputs": [],
   "source": [
    "inputs = merged_df[input_cols].copy()\n",
    "targets = merged_df[target_col].copy()"
   ]
  },
  {
   "cell_type": "code",
   "execution_count": 38,
   "id": "unlike-consciousness",
   "metadata": {},
   "outputs": [],
   "source": [
    "test_inputs = merged_test_df[input_cols].copy()"
   ]
  },
  {
   "cell_type": "markdown",
   "id": "middle-spank",
   "metadata": {},
   "source": [
    "Let's also identify numeric and categorical columns. Note that we can treat binary categorical columns (0/1) as numeric columns."
   ]
  },
  {
   "cell_type": "code",
   "execution_count": 39,
   "id": "equipped-wrapping",
   "metadata": {},
   "outputs": [],
   "source": [
    "numeric_cols = ['Store', 'Promo', 'SchoolHoliday', \n",
    "              'CompetitionDistance', 'CompetitionOpen', 'Promo2', 'Promo2Open', 'IsPromo2Month',\n",
    "              'Day', 'Month', 'Year', 'WeekOfYear',  ]\n",
    "categorical_cols = ['DayOfWeek', 'StateHoliday', 'StoreType', 'Assortment']"
   ]
  },
  {
   "cell_type": "markdown",
   "id": "expired-wrapping",
   "metadata": {},
   "source": [
    "### Impute missing numerical data"
   ]
  },
  {
   "cell_type": "code",
   "execution_count": 40,
   "id": "stupid-disorder",
   "metadata": {},
   "outputs": [
    {
     "data": {
      "text/plain": [
       "Store                     0\n",
       "Promo                     0\n",
       "SchoolHoliday             0\n",
       "CompetitionDistance    2186\n",
       "CompetitionOpen           0\n",
       "Promo2                    0\n",
       "Promo2Open                0\n",
       "IsPromo2Month             0\n",
       "Day                       0\n",
       "Month                     0\n",
       "Year                      0\n",
       "WeekOfYear                0\n",
       "dtype: int64"
      ]
     },
     "execution_count": 40,
     "metadata": {},
     "output_type": "execute_result"
    }
   ],
   "source": [
    "inputs[numeric_cols].isna().sum()"
   ]
  },
  {
   "cell_type": "code",
   "execution_count": 41,
   "id": "stainless-adobe",
   "metadata": {},
   "outputs": [
    {
     "data": {
      "text/plain": [
       "Store                   0\n",
       "Promo                   0\n",
       "SchoolHoliday           0\n",
       "CompetitionDistance    96\n",
       "CompetitionOpen         0\n",
       "Promo2                  0\n",
       "Promo2Open              0\n",
       "IsPromo2Month           0\n",
       "Day                     0\n",
       "Month                   0\n",
       "Year                    0\n",
       "WeekOfYear              0\n",
       "dtype: int64"
      ]
     },
     "execution_count": 41,
     "metadata": {},
     "output_type": "execute_result"
    }
   ],
   "source": [
    "test_inputs[numeric_cols].isna().sum()"
   ]
  },
  {
   "cell_type": "markdown",
   "id": "abroad-commitment",
   "metadata": {},
   "source": [
    "Seems like competition distance is the only missing value, and we can simply fill it with the highest value (to indicate that competition is very far away)."
   ]
  },
  {
   "cell_type": "code",
   "execution_count": 42,
   "id": "suspended-illinois",
   "metadata": {},
   "outputs": [],
   "source": [
    "max_distance = inputs.CompetitionDistance.max()"
   ]
  },
  {
   "cell_type": "code",
   "execution_count": 43,
   "id": "ranging-domestic",
   "metadata": {},
   "outputs": [],
   "source": [
    "inputs['CompetitionDistance'].fillna(max_distance, inplace=True)\n",
    "test_inputs['CompetitionDistance'].fillna(max_distance, inplace=True)"
   ]
  },
  {
   "cell_type": "markdown",
   "id": "0bef436a",
   "metadata": {},
   "source": [
    "### Scale Numeric Values\n",
    "\n",
    "Let's scale numeric values to the 0 to 1 range."
   ]
  },
  {
   "cell_type": "code",
   "execution_count": 45,
   "id": "small-sunset",
   "metadata": {},
   "outputs": [],
   "source": [
    "from sklearn.preprocessing import MinMaxScaler\n",
    "from sklearn.preprocessing import OneHotEncoder\n",
    "scaler = MinMaxScaler().fit(inputs[numeric_cols])"
   ]
  },
  {
   "cell_type": "code",
   "execution_count": 46,
   "id": "neither-madagascar",
   "metadata": {},
   "outputs": [],
   "source": [
    "inputs[numeric_cols] = scaler.transform(inputs[numeric_cols])\n",
    "test_inputs[numeric_cols] = scaler.transform(test_inputs[numeric_cols])"
   ]
  },
  {
   "cell_type": "code",
   "execution_count": 47,
   "id": "manual-hands",
   "metadata": {},
   "outputs": [],
   "source": [
    "encoder = OneHotEncoder(sparse=False, handle_unknown='ignore').fit(inputs[categorical_cols])\n",
    "encoded_cols = list(encoder.get_feature_names(categorical_cols))"
   ]
  },
  {
   "cell_type": "code",
   "execution_count": 48,
   "id": "transparent-participation",
   "metadata": {},
   "outputs": [],
   "source": [
    "inputs[encoded_cols] = encoder.transform(inputs[categorical_cols])\n",
    "test_inputs[encoded_cols] = encoder.transform(test_inputs[categorical_cols])"
   ]
  },
  {
   "cell_type": "markdown",
   "id": "maritime-mailman",
   "metadata": {},
   "source": [
    "Finally, let's extract out all the numeric data for training."
   ]
  },
  {
   "cell_type": "code",
   "execution_count": 49,
   "id": "floating-plant",
   "metadata": {},
   "outputs": [],
   "source": [
    "X = inputs[numeric_cols + encoded_cols]\n",
    "X_test = test_inputs[numeric_cols + encoded_cols]"
   ]
  },
  {
   "cell_type": "markdown",
   "id": "covered-conversation",
   "metadata": {},
   "source": [
    "We haven't created a validation set yet, because we'll use K-fold cross validation."
   ]
  },
  {
   "cell_type": "markdown",
   "id": "minor-casting",
   "metadata": {},
   "source": [
    "## Gradient Boosting\n",
    "\n",
    "We're now ready to train our gradient boosting machine (GBM) model. Here's how a GBM model works:\n",
    "\n",
    "1. The average value of the target column and uses as an initial prediction every input.\n",
    "2. The residuals (difference) of the predictions with the targets are computed.\n",
    "3. A decision tree of limited depth is trained to **predict just the residuals** for each input.\n",
    "4. Predictions from the decision tree are scaled using a parameter called the learning rate (this prevents overfitting)\n",
    "5. Scaled predictions for the tree are added to the previous predictions to obtain the new and improved predictions.\n",
    "6. Steps 2 to 5 are repeated to create new decision trees, each of which is trained to predict just the residuals from the previous prediction.\n",
    "\n",
    "The term \"gradient\" refers to the fact that each decision tree is trained with the purpose of reducing the loss from the previous iteration (similar to gradient descent). The term \"boosting\" refers the general technique of training new models to improve the results of an existing model. "
   ]
  },
  {
   "cell_type": "markdown",
   "id": "heard-mentor",
   "metadata": {},
   "source": [
    "### Training\n",
    "\n",
    "To train a GBM, we can use the `XGBRegressor` class from the [`XGBoost`](https://xgboost.readthedocs.io/en/latest/) library."
   ]
  },
  {
   "cell_type": "code",
   "execution_count": 50,
   "id": "complicated-southeast",
   "metadata": {},
   "outputs": [],
   "source": [
    "from xgboost import XGBRegressor"
   ]
  },
  {
   "cell_type": "code",
   "execution_count": 51,
   "id": "serious-values",
   "metadata": {},
   "outputs": [],
   "source": [
    "?XGBRegressor"
   ]
  },
  {
   "cell_type": "code",
   "execution_count": 52,
   "id": "legendary-diving",
   "metadata": {},
   "outputs": [],
   "source": [
    "model = XGBRegressor(random_state=42, n_jobs=-1, n_estimators=20, max_depth=4)"
   ]
  },
  {
   "cell_type": "markdown",
   "id": "helpful-toyota",
   "metadata": {},
   "source": [
    "Let's train the model using `model.fit`."
   ]
  },
  {
   "cell_type": "code",
   "execution_count": 53,
   "id": "associate-customer",
   "metadata": {},
   "outputs": [
    {
     "name": "stdout",
     "output_type": "stream",
     "text": [
      "Wall time: 6.71 s\n"
     ]
    },
    {
     "data": {
      "text/plain": [
       "XGBRegressor(base_score=0.5, booster='gbtree', colsample_bylevel=1,\n",
       "             colsample_bynode=1, colsample_bytree=1, gamma=0, gpu_id=-1,\n",
       "             importance_type='gain', interaction_constraints='',\n",
       "             learning_rate=0.300000012, max_delta_step=0, max_depth=4,\n",
       "             min_child_weight=1, missing=nan, monotone_constraints='()',\n",
       "             n_estimators=20, n_jobs=-1, num_parallel_tree=1, random_state=42,\n",
       "             reg_alpha=0, reg_lambda=1, scale_pos_weight=1, subsample=1,\n",
       "             tree_method='exact', validate_parameters=1, verbosity=None)"
      ]
     },
     "execution_count": 53,
     "metadata": {},
     "output_type": "execute_result"
    }
   ],
   "source": [
    "%%time\n",
    "model.fit(X, targets)"
   ]
  },
  {
   "cell_type": "markdown",
   "id": "fitting-mount",
   "metadata": {},
   "source": [
    "### Prediction\n",
    "\n",
    "We can now make predictions and evaluate the model using `model.predict`."
   ]
  },
  {
   "cell_type": "code",
   "execution_count": 54,
   "id": "informational-sheffield",
   "metadata": {},
   "outputs": [],
   "source": [
    "preds = model.predict(X)"
   ]
  },
  {
   "cell_type": "code",
   "execution_count": 55,
   "id": "minute-perry",
   "metadata": {},
   "outputs": [
    {
     "data": {
      "text/plain": [
       "array([ 8127.9404,  7606.919 ,  8525.857 , ...,  6412.8247,  9460.068 ,\n",
       "       10302.145 ], dtype=float32)"
      ]
     },
     "execution_count": 55,
     "metadata": {},
     "output_type": "execute_result"
    }
   ],
   "source": [
    "preds"
   ]
  },
  {
   "cell_type": "markdown",
   "id": "stupid-pixel",
   "metadata": {},
   "source": [
    "### Evaluation\n",
    "\n",
    "Let's evaluate the predictions using RMSE error."
   ]
  },
  {
   "cell_type": "code",
   "execution_count": 56,
   "id": "together-christmas",
   "metadata": {},
   "outputs": [],
   "source": [
    "from sklearn.metrics import mean_squared_error\n",
    "\n",
    "def rmse(a, b):\n",
    "    return mean_squared_error(a, b, squared=False)"
   ]
  },
  {
   "cell_type": "code",
   "execution_count": 57,
   "id": "prescription-premiere",
   "metadata": {},
   "outputs": [
    {
     "data": {
      "text/plain": [
       "2377.752008804669"
      ]
     },
     "execution_count": 57,
     "metadata": {},
     "output_type": "execute_result"
    }
   ],
   "source": [
    "rmse(preds, targets)"
   ]
  },
  {
   "cell_type": "markdown",
   "id": "split-forty",
   "metadata": {},
   "source": [
    "### Visualization\n",
    "\n",
    "We can visualize individual trees using `plot_tree` (note: this requires the `graphviz` library to be installed)."
   ]
  },
  {
   "cell_type": "code",
   "execution_count": 58,
   "id": "threatened-panel",
   "metadata": {},
   "outputs": [],
   "source": [
    "import matplotlib.pyplot as plt\n",
    "from xgboost import plot_tree\n",
    "from matplotlib.pylab import rcParams\n",
    "%matplotlib inline\n",
    "\n",
    "rcParams['figure.figsize'] = 30,30"
   ]
  },
  {
   "cell_type": "code",
   "execution_count": 59,
   "id": "italic-medication",
   "metadata": {},
   "outputs": [],
   "source": [
    "#plot_tree(model, rankdir='LR');"
   ]
  },
  {
   "cell_type": "code",
   "execution_count": 60,
   "id": "square-repeat",
   "metadata": {},
   "outputs": [],
   "source": [
    "#plot_tree(model, rankdir='LR', num_trees=1);"
   ]
  },
  {
   "cell_type": "code",
   "execution_count": 61,
   "id": "available-mills",
   "metadata": {},
   "outputs": [],
   "source": [
    "#plot_tree(model, rankdir='LR', num_trees=19);"
   ]
  },
  {
   "cell_type": "markdown",
   "id": "quiet-arthur",
   "metadata": {},
   "source": [
    "Notice how the trees only compute residuals, and not the actual target value. We can also visualize the tree as text."
   ]
  },
  {
   "cell_type": "code",
   "execution_count": 62,
   "id": "renewable-things",
   "metadata": {},
   "outputs": [],
   "source": [
    "trees = model.get_booster().get_dump()"
   ]
  },
  {
   "cell_type": "code",
   "execution_count": 63,
   "id": "dedicated-attribute",
   "metadata": {},
   "outputs": [
    {
     "data": {
      "text/plain": [
       "20"
      ]
     },
     "execution_count": 63,
     "metadata": {},
     "output_type": "execute_result"
    }
   ],
   "source": [
    "len(trees)"
   ]
  },
  {
   "cell_type": "code",
   "execution_count": 64,
   "id": "reported-official",
   "metadata": {},
   "outputs": [
    {
     "name": "stdout",
     "output_type": "stream",
     "text": [
      "0:[Promo<0.5] yes=1,no=2,missing=1\n",
      "\t1:[StoreType_b<0.5] yes=3,no=4,missing=3\n",
      "\t\t3:[Assortment_a<0.5] yes=7,no=8,missing=7\n",
      "\t\t\t7:[CompetitionDistance<0.00441719405] yes=15,no=16,missing=15\n",
      "\t\t\t\t15:leaf=2309.51147\n",
      "\t\t\t\t16:leaf=1823.30444\n",
      "\t\t\t8:[WeekOfYear<0.911764741] yes=17,no=18,missing=17\n",
      "\t\t\t\t17:leaf=1619.43994\n",
      "\t\t\t\t18:leaf=2002.44897\n",
      "\t\t4:[CompetitionDistance<0.01602057] yes=9,no=10,missing=9\n",
      "\t\t\t9:[CompetitionDistance<0.0134493671] yes=19,no=20,missing=19\n",
      "\t\t\t\t19:leaf=2740.44067\n",
      "\t\t\t\t20:leaf=5576.85889\n",
      "\t\t\t10:[DayOfWeek_7<0.5] yes=21,no=22,missing=21\n",
      "\t\t\t\t21:leaf=1898.36487\n",
      "\t\t\t\t22:leaf=2961.08765\n",
      "\t2:[DayOfWeek_1<0.5] yes=5,no=6,missing=5\n",
      "\t\t5:[Month<0.954545498] yes=11,no=12,missing=11\n",
      "\t\t\t11:[StoreType_b<0.5] yes=23,no=24,missing=23\n",
      "\t\t\t\t23:leaf=2295.30566\n",
      "\t\t\t\t24:leaf=3294.27759\n",
      "\t\t\t12:[Day<0.333333343] yes=25,no=26,missing=25\n",
      "\t\t\t\t25:leaf=2754.58521\n",
      "\t\t\t\t26:leaf=3246.39014\n",
      "\t\t6:[Month<0.954545498] yes=13,no=14,missing=13\n",
      "\t\t\t13:[CompetitionDistance<0.002703059] yes=27,no=28,missing=27\n",
      "\t\t\t\t27:leaf=3347.80688\n",
      "\t\t\t\t28:leaf=2839.39551\n",
      "\t\t\t14:[Day<0.25] yes=29,no=30,missing=29\n",
      "\t\t\t\t29:leaf=3400.54419\n",
      "\t\t\t\t30:leaf=4059.85938\n",
      "\n"
     ]
    }
   ],
   "source": [
    "print(trees[0])"
   ]
  },
  {
   "cell_type": "markdown",
   "id": "acceptable-stupid",
   "metadata": {},
   "source": [
    "### Feature importance\n",
    "\n",
    "Just like decision trees and random forests, XGBoost also provides a feature importance score for each column in the input."
   ]
  },
  {
   "cell_type": "code",
   "execution_count": 65,
   "id": "circular-study",
   "metadata": {},
   "outputs": [],
   "source": [
    "importance_df = pd.DataFrame({\n",
    "    'feature': X.columns,\n",
    "    'importance': model.feature_importances_\n",
    "}).sort_values('importance', ascending=False)"
   ]
  },
  {
   "cell_type": "code",
   "execution_count": 66,
   "id": "related-college",
   "metadata": {},
   "outputs": [
    {
     "data": {
      "text/html": [
       "<div>\n",
       "<style scoped>\n",
       "    .dataframe tbody tr th:only-of-type {\n",
       "        vertical-align: middle;\n",
       "    }\n",
       "\n",
       "    .dataframe tbody tr th {\n",
       "        vertical-align: top;\n",
       "    }\n",
       "\n",
       "    .dataframe thead th {\n",
       "        text-align: right;\n",
       "    }\n",
       "</style>\n",
       "<table border=\"1\" class=\"dataframe\">\n",
       "  <thead>\n",
       "    <tr style=\"text-align: right;\">\n",
       "      <th></th>\n",
       "      <th>feature</th>\n",
       "      <th>importance</th>\n",
       "    </tr>\n",
       "  </thead>\n",
       "  <tbody>\n",
       "    <tr>\n",
       "      <th>1</th>\n",
       "      <td>Promo</td>\n",
       "      <td>0.317473</td>\n",
       "    </tr>\n",
       "    <tr>\n",
       "      <th>24</th>\n",
       "      <td>StoreType_b</td>\n",
       "      <td>0.086472</td>\n",
       "    </tr>\n",
       "    <tr>\n",
       "      <th>12</th>\n",
       "      <td>DayOfWeek_1</td>\n",
       "      <td>0.082269</td>\n",
       "    </tr>\n",
       "    <tr>\n",
       "      <th>5</th>\n",
       "      <td>Promo2</td>\n",
       "      <td>0.063986</td>\n",
       "    </tr>\n",
       "    <tr>\n",
       "      <th>3</th>\n",
       "      <td>CompetitionDistance</td>\n",
       "      <td>0.045053</td>\n",
       "    </tr>\n",
       "    <tr>\n",
       "      <th>29</th>\n",
       "      <td>Assortment_c</td>\n",
       "      <td>0.040226</td>\n",
       "    </tr>\n",
       "    <tr>\n",
       "      <th>27</th>\n",
       "      <td>Assortment_a</td>\n",
       "      <td>0.038759</td>\n",
       "    </tr>\n",
       "    <tr>\n",
       "      <th>9</th>\n",
       "      <td>Month</td>\n",
       "      <td>0.038493</td>\n",
       "    </tr>\n",
       "    <tr>\n",
       "      <th>0</th>\n",
       "      <td>Store</td>\n",
       "      <td>0.038119</td>\n",
       "    </tr>\n",
       "    <tr>\n",
       "      <th>8</th>\n",
       "      <td>Day</td>\n",
       "      <td>0.033209</td>\n",
       "    </tr>\n",
       "  </tbody>\n",
       "</table>\n",
       "</div>"
      ],
      "text/plain": [
       "                feature  importance\n",
       "1                 Promo    0.317473\n",
       "24          StoreType_b    0.086472\n",
       "12          DayOfWeek_1    0.082269\n",
       "5                Promo2    0.063986\n",
       "3   CompetitionDistance    0.045053\n",
       "29         Assortment_c    0.040226\n",
       "27         Assortment_a    0.038759\n",
       "9                 Month    0.038493\n",
       "0                 Store    0.038119\n",
       "8                   Day    0.033209"
      ]
     },
     "execution_count": 66,
     "metadata": {},
     "output_type": "execute_result"
    }
   ],
   "source": [
    "importance_df.head(10)"
   ]
  },
  {
   "cell_type": "code",
   "execution_count": 67,
   "id": "academic-element",
   "metadata": {
    "scrolled": true
   },
   "outputs": [
    {
     "data": {
      "image/png": "[encoded data removed]",
      "text/plain": [
       "<Figure size 720x432 with 1 Axes>"
      ]
     },
     "metadata": {
      "needs_background": "light"
     },
     "output_type": "display_data"
    }
   ],
   "source": [
    "import seaborn as sns\n",
    "plt.figure(figsize=(10,6))\n",
    "plt.title('Feature Importance')\n",
    "sns.barplot(data=importance_df.head(10), x='importance', y='feature');"
   ]
  },
  {
   "cell_type": "markdown",
   "id": "optical-diameter",
   "metadata": {},
   "source": [
    "Let's save our work before continuing."
   ]
  },
  {
   "cell_type": "code",
   "execution_count": 68,
   "id": "decent-beginning",
   "metadata": {},
   "outputs": [
    {
     "data": {
      "application/javascript": [
       "window.require && require([\"base/js/namespace\"],function(Jupyter){Jupyter.notebook.save_checkpoint()})"
      ],
      "text/plain": [
       "<IPython.core.display.Javascript object>"
      ]
     },
     "metadata": {},
     "output_type": "display_data"
    },
    {
     "name": "stdout",
     "output_type": "stream",
     "text": [
      "[jovian] Updating notebook \"kashyap-shubham11/python-gradient-boosting-machines-d0caf\" on https://jovian.ai/\u001b[0m\n",
      "[jovian] Committed successfully! https://jovian.ai/kashyap-shubham11/python-gradient-boosting-machines-d0caf\u001b[0m\n"
     ]
    },
    {
     "data": {
      "text/plain": [
       "'https://jovian.ai/kashyap-shubham11/python-gradient-boosting-machines-d0caf'"
      ]
     },
     "execution_count": 68,
     "metadata": {},
     "output_type": "execute_result"
    }
   ],
   "source": [
    "jovian.commit()"
   ]
  },
  {
   "cell_type": "markdown",
   "id": "union-intro",
   "metadata": {},
   "source": [
    "## K Fold Cross Validation\n",
    "\n",
    "Notice that we didn't create a validation set before training our XGBoost model. We'll use a different validation strategy this time, called K-fold cross validation ([source](https://vitalflux.com/k-fold-cross-validation-python-example/)):\n",
    "\n",
    "![](https://vitalflux.com/wp-content/uploads/2020/08/Screenshot-2020-08-15-at-11.13.53-AM.png)"
   ]
  },
  {
   "cell_type": "markdown",
   "id": "allied-amsterdam",
   "metadata": {},
   "source": [
    "Scikit-learn provides utilities for performing K fold cross validation."
   ]
  },
  {
   "cell_type": "code",
   "execution_count": 69,
   "id": "congressional-killer",
   "metadata": {},
   "outputs": [],
   "source": [
    "from sklearn.model_selection import KFold"
   ]
  },
  {
   "cell_type": "markdown",
   "id": "confused-bulletin",
   "metadata": {},
   "source": [
    "Let's define a helper function `train_and_evaluate` which trains a model the given parameters and returns the trained model, training error and validation error."
   ]
  },
  {
   "cell_type": "code",
   "execution_count": 70,
   "id": "novel-gazette",
   "metadata": {},
   "outputs": [],
   "source": [
    "def train_and_evaluate(X_train, train_targets, X_val, val_targets, **params):\n",
    "    model = XGBRegressor(random_state=42, n_jobs=-1, **params)\n",
    "    model.fit(X_train, train_targets)\n",
    "    train_rmse = rmse(model.predict(X_train), train_targets)\n",
    "    val_rmse = rmse(model.predict(X_val), val_targets)\n",
    "    return model, train_rmse, val_rmse"
   ]
  },
  {
   "cell_type": "markdown",
   "id": "disciplinary-japanese",
   "metadata": {},
   "source": [
    "Now, we can use the `KFold` utility to create the different training/validations splits and train a separate model for each fold."
   ]
  },
  {
   "cell_type": "code",
   "execution_count": 71,
   "id": "registered-surveillance",
   "metadata": {},
   "outputs": [],
   "source": [
    "kfold = KFold(n_splits=5)"
   ]
  },
  {
   "cell_type": "code",
   "execution_count": 72,
   "id": "bulgarian-press",
   "metadata": {},
   "outputs": [
    {
     "name": "stdout",
     "output_type": "stream",
     "text": [
      "Train RMSE: 2352.216448531526, Validation RMSE: 2424.6228916973314\n",
      "Train RMSE: 2406.709513789309, Validation RMSE: 2451.9646038059277\n",
      "Train RMSE: 2365.7354745443067, Validation RMSE: 2336.984157073758\n",
      "Train RMSE: 2366.4732092777763, Validation RMSE: 2460.8995475901697\n",
      "Train RMSE: 2379.3752997474626, Validation RMSE: 2440.665320626728\n"
     ]
    }
   ],
   "source": [
    "models = []\n",
    "\n",
    "for train_idxs, val_idxs in kfold.split(X):\n",
    "    X_train, train_targets = X.iloc[train_idxs], targets.iloc[train_idxs]\n",
    "    X_val, val_targets = X.iloc[val_idxs], targets.iloc[val_idxs]\n",
    "    model, train_rmse, val_rmse = train_and_evaluate(X_train, \n",
    "                                                     train_targets, \n",
    "                                                     X_val, \n",
    "                                                     val_targets, \n",
    "                                                     max_depth=4, \n",
    "                                                     n_estimators=20)\n",
    "    models.append(model)\n",
    "    print('Train RMSE: {}, Validation RMSE: {}'.format(train_rmse, val_rmse))"
   ]
  },
  {
   "cell_type": "markdown",
   "id": "swiss-connecticut",
   "metadata": {},
   "source": [
    "Let's also define a function to average predictions from the 5 different models."
   ]
  },
  {
   "cell_type": "code",
   "execution_count": 73,
   "id": "specified-pierre",
   "metadata": {},
   "outputs": [],
   "source": [
    "import numpy as np\n",
    "\n",
    "def predict_avg(models, inputs):\n",
    "    return np.mean([model.predict(inputs) for model in models], axis=0)"
   ]
  },
  {
   "cell_type": "code",
   "execution_count": 74,
   "id": "coordinated-hindu",
   "metadata": {},
   "outputs": [],
   "source": [
    "preds = predict_avg(models, X)"
   ]
  },
  {
   "cell_type": "code",
   "execution_count": 75,
   "id": "moved-indie",
   "metadata": {},
   "outputs": [
    {
     "data": {
      "text/plain": [
       "array([8021.374 , 7577.715 , 8747.863 , ..., 7615.0303, 7924.784 ,\n",
       "       9600.297 ], dtype=float32)"
      ]
     },
     "execution_count": 75,
     "metadata": {},
     "output_type": "execute_result"
    }
   ],
   "source": [
    "preds"
   ]
  },
  {
   "cell_type": "markdown",
   "id": "metric-meter",
   "metadata": {},
   "source": [
    "We can now use `predict_avg` to make predictions for the test set."
   ]
  },
  {
   "cell_type": "markdown",
   "id": "royal-population",
   "metadata": {},
   "source": [
    "## Hyperparameter Tuning and Regularization\n",
    "\n",
    "Just like other machine learning models, there are several hyperparameters we can to adjust the capacity of model and reduce overfitting.\n",
    "\n",
    "<img src=\"https://i.imgur.com/EJCrSZw.png\" width=\"480\">"
   ]
  },
  {
   "cell_type": "code",
   "execution_count": 76,
   "id": "funky-canon",
   "metadata": {
    "scrolled": true
   },
   "outputs": [
    {
     "data": {
      "text/plain": [
       "XGBRegressor(base_score=0.5, booster='gbtree', colsample_bylevel=1,\n",
       "             colsample_bynode=1, colsample_bytree=1, gamma=0, gpu_id=-1,\n",
       "             importance_type='gain', interaction_constraints='',\n",
       "             learning_rate=0.300000012, max_delta_step=0, max_depth=4,\n",
       "             min_child_weight=1, missing=nan, monotone_constraints='()',\n",
       "             n_estimators=20, n_jobs=-1, num_parallel_tree=1, random_state=42,\n",
       "             reg_alpha=0, reg_lambda=1, scale_pos_weight=1, subsample=1,\n",
       "             tree_method='exact', validate_parameters=1, verbosity=None)"
      ]
     },
     "execution_count": 76,
     "metadata": {},
     "output_type": "execute_result"
    }
   ],
   "source": [
    "model"
   ]
  },
  {
   "cell_type": "code",
   "execution_count": 77,
   "id": "dominant-appeal",
   "metadata": {},
   "outputs": [],
   "source": [
    "?XGBRegressor"
   ]
  },
  {
   "cell_type": "markdown",
   "id": "handy-grave",
   "metadata": {},
   "source": [
    "Here's a helper function to test hyperparameters with K-fold cross validation."
   ]
  },
  {
   "cell_type": "code",
   "execution_count": 78,
   "id": "successful-devices",
   "metadata": {},
   "outputs": [],
   "source": [
    "def test_params_kfold(n_splits, **params):\n",
    "    train_rmses, val_rmses, models = [], [], []\n",
    "    kfold = KFold(n_splits)\n",
    "    for train_idxs, val_idxs in kfold.split(X):\n",
    "        X_train, train_targets = X.iloc[train_idxs], targets.iloc[train_idxs]\n",
    "        X_val, val_targets = X.iloc[val_idxs], targets.iloc[val_idxs]\n",
    "        model, train_rmse, val_rmse = train_and_evaluate(X_train, train_targets, X_val, val_targets, **params)\n",
    "        models.append(model)\n",
    "        train_rmses.append(train_rmse)\n",
    "        val_rmses.append(val_rmse)\n",
    "    print('Train RMSE: {}, Validation RMSE: {}'.format(np.mean(train_rmses), np.mean(val_rmses)))\n",
    "    return models"
   ]
  },
  {
   "cell_type": "markdown",
   "id": "invisible-america",
   "metadata": {},
   "source": [
    "Since it may take a long time to perform 5-fold cross validation for each set of parameters we wish to try, we'll just pick a random 10% sample of the dataset as the validation set."
   ]
  },
  {
   "cell_type": "code",
   "execution_count": 79,
   "id": "indoor-mason",
   "metadata": {},
   "outputs": [],
   "source": [
    "from sklearn.model_selection import train_test_split"
   ]
  },
  {
   "cell_type": "code",
   "execution_count": 80,
   "id": "progressive-primary",
   "metadata": {},
   "outputs": [],
   "source": [
    "X_train, X_val, train_targets, val_targets = train_test_split(X, targets, test_size=0.1)"
   ]
  },
  {
   "cell_type": "code",
   "execution_count": 81,
   "id": "cordless-filling",
   "metadata": {},
   "outputs": [],
   "source": [
    "def test_params(**params):\n",
    "    model = XGBRegressor(n_jobs=-1, random_state=42, **params)\n",
    "    model.fit(X_train, train_targets)\n",
    "    train_rmse = rmse(model.predict(X_train), train_targets)\n",
    "    val_rmse = rmse(model.predict(X_val), val_targets)\n",
    "    print('Max Depth: {}, Learning Rate: {}, Train RMSE: {}, Validation RMSE: {}'.format(model.max_depth, model.learning_rate, train_rmse, val_rmse))\n",
    "    return {'Learning Rate': model.learning_rate, 'Max Depth': model.max_depth, 'Training Error': train_rmse, 'Validation Error': val_rmse}"
   ]
  },
  {
   "cell_type": "markdown",
   "id": "sorted-century",
   "metadata": {},
   "source": [
    "#### `n_estimators`\n",
    "\n",
    "The number of trees to be created. More trees = greater capacity of the model. We will take a value of 1000.\n"
   ]
  },
  {
   "cell_type": "markdown",
   "id": "talented-tunisia",
   "metadata": {},
   "source": [
    "#### `max_depth`\n",
    "\n",
    "As we increase the max depth of each tree, the capacity of the tree increases and it can capture more information about the training set."
   ]
  },
  {
   "cell_type": "markdown",
   "id": "colonial-mentor",
   "metadata": {},
   "source": [
    "> Lets experiment with different values of `max_depth`, plot a graph of the training and validation error and determine the optimal."
   ]
  },
  {
   "cell_type": "code",
   "execution_count": 84,
   "id": "874ea772",
   "metadata": {},
   "outputs": [
    {
     "name": "stdout",
     "output_type": "stream",
     "text": [
      "Max Depth: 8, Learning Rate: None, Train RMSE: 723.7579764837932, Validation RMSE: 796.4236140121292\n",
      "Max Depth: 9, Learning Rate: None, Train RMSE: 641.2796923399426, Validation RMSE: 753.8636912622156\n",
      "Max Depth: 10, Learning Rate: None, Train RMSE: 565.6343269406765, Validation RMSE: 734.4460692926741\n",
      "Max Depth: 11, Learning Rate: None, Train RMSE: 494.0583279783455, Validation RMSE: 718.881264150255\n",
      "Max Depth: 12, Learning Rate: None, Train RMSE: 408.4829678920262, Validation RMSE: 727.103269235848\n",
      "Max Depth: 13, Learning Rate: None, Train RMSE: 341.2774750372153, Validation RMSE: 728.5645808104307\n",
      "Max Depth: 14, Learning Rate: None, Train RMSE: 267.2365006466406, Validation RMSE: 745.7015851870616\n",
      "Max Depth: 15, Learning Rate: None, Train RMSE: 193.2013450218246, Validation RMSE: 772.0681814169205\n",
      "Max Depth: 16, Learning Rate: None, Train RMSE: 134.1819269373581, Validation RMSE: 779.8855234765108\n",
      "Max Depth: 17, Learning Rate: None, Train RMSE: 78.92247019366928, Validation RMSE: 806.4467721216519\n",
      "Wall time: 45min 11s\n"
     ]
    }
   ],
   "source": [
    "%%time\n",
    "errors_df_max_depth = pd.DataFrame([test_params(max_depth = md, n_estimators=200) for md in range(8, 18)])\n"
   ]
  },
  {
   "cell_type": "code",
   "execution_count": 85,
   "id": "7ef58c06",
   "metadata": {},
   "outputs": [
    {
     "data": {
      "text/plain": [
       "<matplotlib.legend.Legend at 0x2cc035a54c0>"
      ]
     },
     "execution_count": 85,
     "metadata": {},
     "output_type": "execute_result"
    },
    {
     "data": {
      "image/png": "[encoded data removed]",
      "text/plain": [
       "<Figure size 720x432 with 1 Axes>"
      ]
     },
     "metadata": {
      "needs_background": "light"
     },
     "output_type": "display_data"
    }
   ],
   "source": [
    "plt.figure(figsize=(10,6))\n",
    "plt.plot(errors_df_max_depth['Max Depth'], errors_df_max_depth['Training Error'])\n",
    "plt.plot(errors_df_max_depth['Max Depth'], errors_df_max_depth['Validation Error'])\n",
    "plt.title('Training vs. Validation Error')\n",
    "plt.xticks(range(8,18))\n",
    "plt.xlabel('Max Depth')\n",
    "plt.ylabel('Prediction Error')\n",
    "plt.legend(['Training', 'Validation'])"
   ]
  },
  {
   "cell_type": "markdown",
   "id": "early-integrity",
   "metadata": {},
   "source": [
    "#### `learning_rate`\n",
    "\n",
    "The scaling factor to be applied to the prediction of each tree. A very high learning rate (close to 1) will lead to overfitting, and a low learning rate (close to 0) will lead to underfitting."
   ]
  },
  {
   "cell_type": "markdown",
   "id": "collected-louis",
   "metadata": {},
   "source": [
    "> Lets experiment with different values of `learning_rate`, plot a graph of the training and validation error and determine the optimal."
   ]
  },
  {
   "cell_type": "code",
   "execution_count": 86,
   "id": "b315ff77",
   "metadata": {},
   "outputs": [
    {
     "name": "stdout",
     "output_type": "stream",
     "text": [
      "Max Depth: 11, Learning Rate: 0.1, Train RMSE: 684.5363180259766, Validation RMSE: 801.9463729014589\n",
      "Max Depth: 11, Learning Rate: 0.1142857142857143, Train RMSE: 662.0313866056393, Validation RMSE: 787.2167642580445\n",
      "Max Depth: 11, Learning Rate: 0.1285714285714286, Train RMSE: 616.8956055207742, Validation RMSE: 754.3759845105319\n",
      "Max Depth: 11, Learning Rate: 0.14285714285714285, Train RMSE: 603.6812782030408, Validation RMSE: 747.1000103352878\n",
      "Max Depth: 11, Learning Rate: 0.15714285714285714, Train RMSE: 584.3542640760645, Validation RMSE: 743.427562483301\n",
      "Max Depth: 11, Learning Rate: 0.17142857142857143, Train RMSE: 575.760378789745, Validation RMSE: 735.0392536922334\n",
      "Max Depth: 11, Learning Rate: 0.18571428571428572, Train RMSE: 553.1746674191392, Validation RMSE: 727.2903907702843\n",
      "Max Depth: 11, Learning Rate: 0.2, Train RMSE: 549.6321214297898, Validation RMSE: 724.7652980049972\n",
      "Max Depth: 11, Learning Rate: 0.2142857142857143, Train RMSE: 539.4259025388454, Validation RMSE: 725.9260713504174\n",
      "Max Depth: 11, Learning Rate: 0.2285714285714286, Train RMSE: 537.9681036039989, Validation RMSE: 726.0528647571603\n",
      "Max Depth: 11, Learning Rate: 0.24285714285714288, Train RMSE: 519.123601868761, Validation RMSE: 717.7854839087707\n",
      "Max Depth: 11, Learning Rate: 0.2571428571428572, Train RMSE: 508.94175374166423, Validation RMSE: 718.152938444426\n",
      "Max Depth: 11, Learning Rate: 0.27142857142857146, Train RMSE: 498.9323983502474, Validation RMSE: 716.6231773357049\n",
      "Max Depth: 11, Learning Rate: 0.2857142857142857, Train RMSE: 490.0906113127113, Validation RMSE: 717.0772507901746\n",
      "Max Depth: 11, Learning Rate: 0.30000000000000004, Train RMSE: 494.0583279783455, Validation RMSE: 718.881264150255\n",
      "Max Depth: 11, Learning Rate: 0.3142857142857143, Train RMSE: 476.96444862695313, Validation RMSE: 717.7992658094703\n",
      "Max Depth: 11, Learning Rate: 0.3285714285714286, Train RMSE: 482.46237471685413, Validation RMSE: 718.998141359012\n",
      "Max Depth: 11, Learning Rate: 0.34285714285714286, Train RMSE: 471.4863526744186, Validation RMSE: 719.0524153622242\n",
      "Max Depth: 11, Learning Rate: 0.3571428571428572, Train RMSE: 458.8074078050151, Validation RMSE: 715.8371477036419\n",
      "Max Depth: 11, Learning Rate: 0.37142857142857144, Train RMSE: 467.0428684743217, Validation RMSE: 733.857487223955\n",
      "Max Depth: 11, Learning Rate: 0.3857142857142858, Train RMSE: 454.34034394483086, Validation RMSE: 722.536977132638\n",
      "Max Depth: 11, Learning Rate: 0.4, Train RMSE: 458.67530621973884, Validation RMSE: 733.8758441472697\n",
      "Max Depth: 11, Learning Rate: 0.41428571428571437, Train RMSE: 448.6760330939525, Validation RMSE: 734.1714706848668\n",
      "Max Depth: 11, Learning Rate: 0.4285714285714286, Train RMSE: 447.0867733738381, Validation RMSE: 732.6455435275841\n",
      "Max Depth: 11, Learning Rate: 0.44285714285714284, Train RMSE: 434.60113466449474, Validation RMSE: 733.3034345031929\n",
      "Max Depth: 11, Learning Rate: 0.4571428571428572, Train RMSE: 437.98120388573113, Validation RMSE: 737.9861621209674\n",
      "Max Depth: 11, Learning Rate: 0.4714285714285714, Train RMSE: 434.8631319548502, Validation RMSE: 741.4524844678194\n",
      "Max Depth: 11, Learning Rate: 0.48571428571428577, Train RMSE: 430.4086513059666, Validation RMSE: 748.8213092769621\n",
      "Max Depth: 11, Learning Rate: 0.5, Train RMSE: 420.0297920963522, Validation RMSE: 741.4077889689819\n",
      "Max Depth: 11, Learning Rate: 0.5142857142857143, Train RMSE: 420.38228897812047, Validation RMSE: 753.4529907400956\n",
      "Max Depth: 11, Learning Rate: 0.5285714285714286, Train RMSE: 411.3996472324204, Validation RMSE: 743.5071471426879\n",
      "Max Depth: 11, Learning Rate: 0.5428571428571429, Train RMSE: 410.2815325646211, Validation RMSE: 754.3112578305252\n",
      "Max Depth: 11, Learning Rate: 0.5571428571428572, Train RMSE: 408.2867487062354, Validation RMSE: 763.2049835378937\n",
      "Max Depth: 11, Learning Rate: 0.5714285714285715, Train RMSE: 407.0932449080171, Validation RMSE: 752.669376044967\n",
      "Max Depth: 11, Learning Rate: 0.5857142857142857, Train RMSE: 410.35577568278364, Validation RMSE: 765.0704761234067\n",
      "Max Depth: 11, Learning Rate: 0.6, Train RMSE: 403.18368718647343, Validation RMSE: 767.5453395957214\n",
      "Max Depth: 11, Learning Rate: 0.6142857142857143, Train RMSE: 398.19153120540363, Validation RMSE: 766.820358345004\n",
      "Max Depth: 11, Learning Rate: 0.6285714285714286, Train RMSE: 398.18853039821124, Validation RMSE: 769.5683156547502\n",
      "Max Depth: 11, Learning Rate: 0.6428571428571429, Train RMSE: 402.2362538206894, Validation RMSE: 785.5398284416892\n",
      "Max Depth: 11, Learning Rate: 0.6571428571428571, Train RMSE: 390.87863875261553, Validation RMSE: 776.3203163784543\n",
      "Max Depth: 11, Learning Rate: 0.6714285714285715, Train RMSE: 401.9696275455014, Validation RMSE: 788.6045614381466\n",
      "Max Depth: 11, Learning Rate: 0.6857142857142857, Train RMSE: 401.0658457660415, Validation RMSE: 801.8824758033327\n",
      "Max Depth: 11, Learning Rate: 0.7000000000000001, Train RMSE: 398.9669058698377, Validation RMSE: 798.4543490573478\n",
      "Max Depth: 11, Learning Rate: 0.7142857142857143, Train RMSE: 400.3938142573347, Validation RMSE: 805.2825982679173\n",
      "Max Depth: 11, Learning Rate: 0.7285714285714286, Train RMSE: 390.9092563804871, Validation RMSE: 805.598234253578\n",
      "Max Depth: 11, Learning Rate: 0.7428571428571429, Train RMSE: 381.85332853444726, Validation RMSE: 797.4888926924588\n",
      "Max Depth: 11, Learning Rate: 0.7571428571428572, Train RMSE: 392.2651319243866, Validation RMSE: 809.78360031584\n",
      "Max Depth: 11, Learning Rate: 0.7714285714285715, Train RMSE: 389.2007854750778, Validation RMSE: 808.72247881853\n",
      "Max Depth: 11, Learning Rate: 0.7857142857142857, Train RMSE: 385.0733598768829, Validation RMSE: 819.306795973254\n",
      "Max Depth: 11, Learning Rate: 0.8, Train RMSE: 381.3460436153873, Validation RMSE: 821.9843195451901\n",
      "Wall time: 2h 28min 34s\n"
     ]
    }
   ],
   "source": [
    "%%time\n",
    "errors_df_learning_rate = pd.DataFrame([test_params(n_estimators=200, max_depth = 11, learning_rate = lr) for lr in np.linspace(0.1, 0.8, num=50)])"
   ]
  },
  {
   "cell_type": "code",
   "execution_count": 87,
   "id": "c460e4c2",
   "metadata": {},
   "outputs": [
    {
     "data": {
      "text/plain": [
       "<matplotlib.legend.Legend at 0x2cc03540d60>"
      ]
     },
     "execution_count": 87,
     "metadata": {},
     "output_type": "execute_result"
    },
    {
     "data": {
      "image/png": "[encoded data removed]",
      "text/plain": [
       "<Figure size 2520x432 with 1 Axes>"
      ]
     },
     "metadata": {
      "needs_background": "light"
     },
     "output_type": "display_data"
    }
   ],
   "source": [
    "plt.figure(figsize=(35,6))\n",
    "plt.plot(errors_df_learning_rate['Learning Rate'], errors_df_learning_rate['Training Error'])\n",
    "plt.plot(errors_df_learning_rate['Learning Rate'], errors_df_learning_rate['Validation Error'])\n",
    "plt.title('Training vs. Validation Error')\n",
    "plt.xticks(np.linspace(0.1, 0.8, num=50))\n",
    "plt.xlabel('Learning Rate')\n",
    "plt.ylabel('Prediction Error')\n",
    "plt.legend(['Training', 'Validation'])"
   ]
  },
  {
   "cell_type": "markdown",
   "id": "6301fd9c",
   "metadata": {},
   "source": [
    "**Observations:**\n",
    "- We see optimal value can be picked at `max_depth` = 11.\n",
    "- Lets take no of estimators = 200 on a safe side.\n",
    "- The optimal value for `learning_rate` can be taken as 0.3571"
   ]
  },
  {
   "cell_type": "markdown",
   "id": "ca7138d8",
   "metadata": {},
   "source": [
    "> Lets calculate the errors by putting all parameters together."
   ]
  },
  {
   "cell_type": "code",
   "execution_count": 88,
   "id": "0e623552",
   "metadata": {},
   "outputs": [
    {
     "name": "stdout",
     "output_type": "stream",
     "text": [
      "Max Depth: 11, Learning Rate: 0.2571, Train RMSE: 242.65775159766082, Validation RMSE: 683.4386818116732\n"
     ]
    },
    {
     "data": {
      "text/plain": [
       "{'Learning Rate': 0.2571,\n",
       " 'Max Depth': 11,\n",
       " 'Training Error': 242.65775159766082,\n",
       " 'Validation Error': 683.4386818116732}"
      ]
     },
     "execution_count": 88,
     "metadata": {},
     "output_type": "execute_result"
    }
   ],
   "source": [
    "test_params(n_estimators=1000, max_depth = 11, learning_rate = 0.2571)"
   ]
  },
  {
   "cell_type": "markdown",
   "id": "committed-radar",
   "metadata": {},
   "source": [
    "## Putting it Together and Making Predictions\n",
    "\n",
    "Let's train a final model on the entire training set with custom hyperparameters. "
   ]
  },
  {
   "cell_type": "code",
   "execution_count": 89,
   "id": "private-snowboard",
   "metadata": {},
   "outputs": [],
   "source": [
    "model = XGBRegressor(n_jobs=-1, random_state=42, n_estimators=1000, \n",
    "                     learning_rate=0.2571, max_depth=11, subsample=0.9, \n",
    "                     colsample_bytree=0.7)"
   ]
  },
  {
   "cell_type": "code",
   "execution_count": 90,
   "id": "sudden-geneva",
   "metadata": {},
   "outputs": [
    {
     "name": "stdout",
     "output_type": "stream",
     "text": [
      "Wall time: 15min 31s\n"
     ]
    },
    {
     "data": {
      "text/plain": [
       "XGBRegressor(base_score=0.5, booster='gbtree', colsample_bylevel=1,\n",
       "             colsample_bynode=1, colsample_bytree=0.7, gamma=0, gpu_id=-1,\n",
       "             importance_type='gain', interaction_constraints='',\n",
       "             learning_rate=0.2571, max_delta_step=0, max_depth=11,\n",
       "             min_child_weight=1, missing=nan, monotone_constraints='()',\n",
       "             n_estimators=1000, n_jobs=-1, num_parallel_tree=1, random_state=42,\n",
       "             reg_alpha=0, reg_lambda=1, scale_pos_weight=1, subsample=0.9,\n",
       "             tree_method='exact', validate_parameters=1, verbosity=None)"
      ]
     },
     "execution_count": 90,
     "metadata": {},
     "output_type": "execute_result"
    }
   ],
   "source": [
    "%%time\n",
    "model.fit(X, targets)"
   ]
  },
  {
   "cell_type": "markdown",
   "id": "challenging-religious",
   "metadata": {},
   "source": [
    "Now that the model is trained, we can make predictions on the test set."
   ]
  },
  {
   "cell_type": "code",
   "execution_count": 91,
   "id": "vietnamese-lucas",
   "metadata": {},
   "outputs": [],
   "source": [
    "test_preds = model.predict(X_test)"
   ]
  },
  {
   "cell_type": "markdown",
   "id": "permanent-garbage",
   "metadata": {},
   "source": [
    "Let's add the predictions into `submission_df`."
   ]
  },
  {
   "cell_type": "code",
   "execution_count": 92,
   "id": "empty-weapon",
   "metadata": {},
   "outputs": [],
   "source": [
    "submission_df['Sales']  = test_preds"
   ]
  },
  {
   "cell_type": "markdown",
   "id": "geological-football",
   "metadata": {},
   "source": [
    "Recall, however, if if the store is not open, then the sales must be 0. Thus, wherever the value of `Open` in the test set is 0, we can set the sales to 0. Also, there some missing values for `Open` in the test set. We'll replace them with 1 (open)."
   ]
  },
  {
   "cell_type": "code",
   "execution_count": 93,
   "id": "nuclear-prophet",
   "metadata": {},
   "outputs": [
    {
     "data": {
      "text/plain": [
       "11"
      ]
     },
     "execution_count": 93,
     "metadata": {},
     "output_type": "execute_result"
    }
   ],
   "source": [
    "test_df.Open.isna().sum()"
   ]
  },
  {
   "cell_type": "code",
   "execution_count": 94,
   "id": "novel-coverage",
   "metadata": {},
   "outputs": [],
   "source": [
    "submission_df['Sales'] = submission_df['Sales'] * test_df.Open.fillna(1.)"
   ]
  },
  {
   "cell_type": "code",
   "execution_count": 95,
   "id": "expanded-copper",
   "metadata": {},
   "outputs": [
    {
     "data": {
      "text/html": [
       "<div>\n",
       "<style scoped>\n",
       "    .dataframe tbody tr th:only-of-type {\n",
       "        vertical-align: middle;\n",
       "    }\n",
       "\n",
       "    .dataframe tbody tr th {\n",
       "        vertical-align: top;\n",
       "    }\n",
       "\n",
       "    .dataframe thead th {\n",
       "        text-align: right;\n",
       "    }\n",
       "</style>\n",
       "<table border=\"1\" class=\"dataframe\">\n",
       "  <thead>\n",
       "    <tr style=\"text-align: right;\">\n",
       "      <th></th>\n",
       "      <th>Id</th>\n",
       "      <th>Sales</th>\n",
       "    </tr>\n",
       "  </thead>\n",
       "  <tbody>\n",
       "    <tr>\n",
       "      <th>0</th>\n",
       "      <td>1</td>\n",
       "      <td>4457.364746</td>\n",
       "    </tr>\n",
       "    <tr>\n",
       "      <th>1</th>\n",
       "      <td>2</td>\n",
       "      <td>7752.540039</td>\n",
       "    </tr>\n",
       "    <tr>\n",
       "      <th>2</th>\n",
       "      <td>3</td>\n",
       "      <td>9132.433594</td>\n",
       "    </tr>\n",
       "    <tr>\n",
       "      <th>3</th>\n",
       "      <td>4</td>\n",
       "      <td>7532.203613</td>\n",
       "    </tr>\n",
       "    <tr>\n",
       "      <th>4</th>\n",
       "      <td>5</td>\n",
       "      <td>6820.651855</td>\n",
       "    </tr>\n",
       "    <tr>\n",
       "      <th>...</th>\n",
       "      <td>...</td>\n",
       "      <td>...</td>\n",
       "    </tr>\n",
       "    <tr>\n",
       "      <th>41083</th>\n",
       "      <td>41084</td>\n",
       "      <td>4257.973633</td>\n",
       "    </tr>\n",
       "    <tr>\n",
       "      <th>41084</th>\n",
       "      <td>41085</td>\n",
       "      <td>7166.009277</td>\n",
       "    </tr>\n",
       "    <tr>\n",
       "      <th>41085</th>\n",
       "      <td>41086</td>\n",
       "      <td>5563.672852</td>\n",
       "    </tr>\n",
       "    <tr>\n",
       "      <th>41086</th>\n",
       "      <td>41087</td>\n",
       "      <td>20210.105469</td>\n",
       "    </tr>\n",
       "    <tr>\n",
       "      <th>41087</th>\n",
       "      <td>41088</td>\n",
       "      <td>8615.424805</td>\n",
       "    </tr>\n",
       "  </tbody>\n",
       "</table>\n",
       "<p>41088 rows × 2 columns</p>\n",
       "</div>"
      ],
      "text/plain": [
       "          Id         Sales\n",
       "0          1   4457.364746\n",
       "1          2   7752.540039\n",
       "2          3   9132.433594\n",
       "3          4   7532.203613\n",
       "4          5   6820.651855\n",
       "...      ...           ...\n",
       "41083  41084   4257.973633\n",
       "41084  41085   7166.009277\n",
       "41085  41086   5563.672852\n",
       "41086  41087  20210.105469\n",
       "41087  41088   8615.424805\n",
       "\n",
       "[41088 rows x 2 columns]"
      ]
     },
     "execution_count": 95,
     "metadata": {},
     "output_type": "execute_result"
    }
   ],
   "source": [
    "submission_df"
   ]
  },
  {
   "cell_type": "markdown",
   "id": "agreed-characteristic",
   "metadata": {},
   "source": [
    "We can now save the predictions as a CSV file."
   ]
  },
  {
   "cell_type": "code",
   "execution_count": 96,
   "id": "bottom-intranet",
   "metadata": {},
   "outputs": [],
   "source": [
    "submission_df.to_csv('submission.csv', index=None)"
   ]
  },
  {
   "cell_type": "code",
   "execution_count": 97,
   "id": "fb3d672c",
   "metadata": {},
   "outputs": [
    {
     "data": {
      "text/html": [
       "<div>\n",
       "<style scoped>\n",
       "    .dataframe tbody tr th:only-of-type {\n",
       "        vertical-align: middle;\n",
       "    }\n",
       "\n",
       "    .dataframe tbody tr th {\n",
       "        vertical-align: top;\n",
       "    }\n",
       "\n",
       "    .dataframe thead th {\n",
       "        text-align: right;\n",
       "    }\n",
       "</style>\n",
       "<table border=\"1\" class=\"dataframe\">\n",
       "  <thead>\n",
       "    <tr style=\"text-align: right;\">\n",
       "      <th></th>\n",
       "      <th>Id</th>\n",
       "      <th>Sales</th>\n",
       "    </tr>\n",
       "  </thead>\n",
       "  <tbody>\n",
       "    <tr>\n",
       "      <th>0</th>\n",
       "      <td>1</td>\n",
       "      <td>4457.364746</td>\n",
       "    </tr>\n",
       "    <tr>\n",
       "      <th>1</th>\n",
       "      <td>2</td>\n",
       "      <td>7752.540039</td>\n",
       "    </tr>\n",
       "    <tr>\n",
       "      <th>2</th>\n",
       "      <td>3</td>\n",
       "      <td>9132.433594</td>\n",
       "    </tr>\n",
       "    <tr>\n",
       "      <th>3</th>\n",
       "      <td>4</td>\n",
       "      <td>7532.203613</td>\n",
       "    </tr>\n",
       "    <tr>\n",
       "      <th>4</th>\n",
       "      <td>5</td>\n",
       "      <td>6820.651855</td>\n",
       "    </tr>\n",
       "    <tr>\n",
       "      <th>...</th>\n",
       "      <td>...</td>\n",
       "      <td>...</td>\n",
       "    </tr>\n",
       "    <tr>\n",
       "      <th>41083</th>\n",
       "      <td>41084</td>\n",
       "      <td>4257.973633</td>\n",
       "    </tr>\n",
       "    <tr>\n",
       "      <th>41084</th>\n",
       "      <td>41085</td>\n",
       "      <td>7166.009277</td>\n",
       "    </tr>\n",
       "    <tr>\n",
       "      <th>41085</th>\n",
       "      <td>41086</td>\n",
       "      <td>5563.672852</td>\n",
       "    </tr>\n",
       "    <tr>\n",
       "      <th>41086</th>\n",
       "      <td>41087</td>\n",
       "      <td>20210.105469</td>\n",
       "    </tr>\n",
       "    <tr>\n",
       "      <th>41087</th>\n",
       "      <td>41088</td>\n",
       "      <td>8615.424805</td>\n",
       "    </tr>\n",
       "  </tbody>\n",
       "</table>\n",
       "<p>41088 rows × 2 columns</p>\n",
       "</div>"
      ],
      "text/plain": [
       "          Id         Sales\n",
       "0          1   4457.364746\n",
       "1          2   7752.540039\n",
       "2          3   9132.433594\n",
       "3          4   7532.203613\n",
       "4          5   6820.651855\n",
       "...      ...           ...\n",
       "41083  41084   4257.973633\n",
       "41084  41085   7166.009277\n",
       "41085  41086   5563.672852\n",
       "41086  41087  20210.105469\n",
       "41087  41088   8615.424805\n",
       "\n",
       "[41088 rows x 2 columns]"
      ]
     },
     "execution_count": 97,
     "metadata": {},
     "output_type": "execute_result"
    }
   ],
   "source": [
    "submission_df"
   ]
  },
  {
   "cell_type": "code",
   "execution_count": 98,
   "id": "ranging-cologne",
   "metadata": {},
   "outputs": [],
   "source": [
    "from IPython.display import FileLink"
   ]
  },
  {
   "cell_type": "code",
   "execution_count": 99,
   "id": "insured-durham",
   "metadata": {},
   "outputs": [
    {
     "data": {
      "text/html": [
       "<a href='submission.csv' target='_blank'>submission.csv</a><br>"
      ],
      "text/plain": [
       "C:\\Users\\kashy\\OneDrive\\Desktop\\Data Scientist\\my projects\\xg boost\\python-gradient-boosting-machines-v-2\\submission.csv"
      ]
     },
     "execution_count": 99,
     "metadata": {},
     "output_type": "execute_result"
    }
   ],
   "source": [
    "# Doesn't work on Colab, use the file browser instead.\n",
    "FileLink('submission.csv')"
   ]
  }
 ],
 "metadata": {
  "kernelspec": {
   "display_name": "Python 3",
   "language": "python",
   "name": "python3"
  },
  "language_info": {
   "codemirror_mode": {
    "name": "ipython",
    "version": 3
   },
   "file_extension": ".py",
   "mimetype": "text/x-python",
   "name": "python",
   "nbconvert_exporter": "python",
   "pygments_lexer": "ipython3",
   "version": "3.8.9"
  }
 },
 "nbformat": 4,
 "nbformat_minor": 5
}
